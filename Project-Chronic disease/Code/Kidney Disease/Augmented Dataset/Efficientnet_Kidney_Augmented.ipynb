{
 "cells": [
  {
   "cell_type": "code",
   "execution_count": 1,
   "metadata": {
    "colab": {
     "base_uri": "https://localhost:8080/"
    },
    "executionInfo": {
     "elapsed": 49953,
     "status": "ok",
     "timestamp": 1750587117877,
     "user": {
      "displayName": "PAWAR SAKSHI RAJENDRA",
      "userId": "08663417119460558839"
     },
     "user_tz": -330
    },
    "id": "M3kal3_5HtpK",
    "outputId": "627f83c6-c04b-412b-a662-97921567ed84"
   },
   "outputs": [
    {
     "name": "stdout",
     "output_type": "stream",
     "text": [
      "Requirement already satisfied: tensorflow in d:\\python\\lib\\site-packages (2.6.2)\n",
      "Requirement already satisfied: google-pasta~=0.2 in d:\\python\\lib\\site-packages (from tensorflow) (0.2.0)\n",
      "Requirement already satisfied: h5py~=3.1.0 in d:\\python\\lib\\site-packages (from tensorflow) (3.1.0)\n",
      "Requirement already satisfied: keras-preprocessing~=1.1.2 in d:\\python\\lib\\site-packages (from tensorflow) (1.1.2)\n",
      "Requirement already satisfied: grpcio<2.0,>=1.37.0 in d:\\python\\lib\\site-packages (from tensorflow) (1.48.2)\n",
      "Requirement already satisfied: wrapt~=1.12.1 in d:\\python\\lib\\site-packages (from tensorflow) (1.12.1)\n",
      "Requirement already satisfied: numpy~=1.19.2 in d:\\python\\lib\\site-packages (from tensorflow) (1.19.5)\n",
      "Requirement already satisfied: six~=1.15.0 in d:\\python\\lib\\site-packages (from tensorflow) (1.15.0)\n",
      "Requirement already satisfied: keras<2.7,>=2.6.0 in d:\\python\\lib\\site-packages (from tensorflow) (2.6.0)\n",
      "Requirement already satisfied: clang~=5.0 in d:\\python\\lib\\site-packages (from tensorflow) (5.0)\n",
      "Requirement already satisfied: gast==0.4.0 in d:\\python\\lib\\site-packages (from tensorflow) (0.4.0)\n",
      "Requirement already satisfied: typing-extensions~=3.7.4 in d:\\python\\lib\\site-packages (from tensorflow) (3.7.4.3)\n",
      "Requirement already satisfied: astunparse~=1.6.3 in d:\\python\\lib\\site-packages (from tensorflow) (1.6.3)\n",
      "Requirement already satisfied: tensorflow-estimator<2.7,>=2.6.0 in d:\\python\\lib\\site-packages (from tensorflow) (2.6.0)\n",
      "Requirement already satisfied: flatbuffers~=1.12.0 in d:\\python\\lib\\site-packages (from tensorflow) (1.12)\n",
      "Requirement already satisfied: termcolor~=1.1.0 in d:\\python\\lib\\site-packages (from tensorflow) (1.1.0)\n",
      "Requirement already satisfied: wheel~=0.35 in d:\\python\\lib\\site-packages (from tensorflow) (0.37.1)\n",
      "Requirement already satisfied: protobuf>=3.9.2 in d:\\python\\lib\\site-packages (from tensorflow) (3.19.6)\n",
      "Requirement already satisfied: tensorboard<2.7,>=2.6.0 in d:\\python\\lib\\site-packages (from tensorflow) (2.6.0)\n",
      "Requirement already satisfied: opt-einsum~=3.3.0 in d:\\python\\lib\\site-packages (from tensorflow) (3.3.0)\n",
      "Requirement already satisfied: absl-py~=0.10 in d:\\python\\lib\\site-packages (from tensorflow) (0.15.0)\n",
      "Requirement already satisfied: cached-property in d:\\python\\lib\\site-packages (from h5py~=3.1.0->tensorflow) (1.5.2)\n",
      "Requirement already satisfied: requests<3,>=2.21.0 in d:\\python\\lib\\site-packages (from tensorboard<2.7,>=2.6.0->tensorflow) (2.27.1)\n",
      "Requirement already satisfied: setuptools>=41.0.0 in d:\\python\\lib\\site-packages (from tensorboard<2.7,>=2.6.0->tensorflow) (59.6.0)\n",
      "Requirement already satisfied: markdown>=2.6.8 in d:\\python\\lib\\site-packages (from tensorboard<2.7,>=2.6.0->tensorflow) (3.3.7)\n",
      "Requirement already satisfied: werkzeug>=0.11.15 in d:\\python\\lib\\site-packages (from tensorboard<2.7,>=2.6.0->tensorflow) (2.0.3)\n",
      "Requirement already satisfied: tensorboard-plugin-wit>=1.6.0 in d:\\python\\lib\\site-packages (from tensorboard<2.7,>=2.6.0->tensorflow) (1.8.1)\n",
      "Requirement already satisfied: google-auth-oauthlib<0.5,>=0.4.1 in d:\\python\\lib\\site-packages (from tensorboard<2.7,>=2.6.0->tensorflow) (0.4.6)\n",
      "Requirement already satisfied: tensorboard-data-server<0.7.0,>=0.6.0 in d:\\python\\lib\\site-packages (from tensorboard<2.7,>=2.6.0->tensorflow) (0.6.1)\n",
      "Requirement already satisfied: google-auth<2,>=1.6.3 in d:\\python\\lib\\site-packages (from tensorboard<2.7,>=2.6.0->tensorflow) (1.35.0)\n",
      "Requirement already satisfied: rsa<5,>=3.1.4 in d:\\python\\lib\\site-packages (from google-auth<2,>=1.6.3->tensorboard<2.7,>=2.6.0->tensorflow) (4.9)\n",
      "Requirement already satisfied: pyasn1-modules>=0.2.1 in d:\\python\\lib\\site-packages (from google-auth<2,>=1.6.3->tensorboard<2.7,>=2.6.0->tensorflow) (0.2.8)\n",
      "Requirement already satisfied: cachetools<5.0,>=2.0.0 in d:\\python\\lib\\site-packages (from google-auth<2,>=1.6.3->tensorboard<2.7,>=2.6.0->tensorflow) (4.2.4)\n",
      "Requirement already satisfied: requests-oauthlib>=0.7.0 in d:\\python\\lib\\site-packages (from google-auth-oauthlib<0.5,>=0.4.1->tensorboard<2.7,>=2.6.0->tensorflow) (1.3.1)\n",
      "Requirement already satisfied: importlib-metadata>=4.4 in d:\\python\\lib\\site-packages (from markdown>=2.6.8->tensorboard<2.7,>=2.6.0->tensorflow) (4.8.3)\n",
      "Requirement already satisfied: charset-normalizer~=2.0.0 in d:\\python\\lib\\site-packages (from requests<3,>=2.21.0->tensorboard<2.7,>=2.6.0->tensorflow) (2.0.12)\n",
      "Requirement already satisfied: idna<4,>=2.5 in d:\\python\\lib\\site-packages (from requests<3,>=2.21.0->tensorboard<2.7,>=2.6.0->tensorflow) (3.3)\n",
      "Requirement already satisfied: urllib3<1.27,>=1.21.1 in d:\\python\\lib\\site-packages (from requests<3,>=2.21.0->tensorboard<2.7,>=2.6.0->tensorflow) (1.26.10)\n",
      "Requirement already satisfied: certifi>=2017.4.17 in d:\\python\\lib\\site-packages (from requests<3,>=2.21.0->tensorboard<2.7,>=2.6.0->tensorflow) (2022.6.15)\n",
      "Requirement already satisfied: dataclasses in d:\\python\\lib\\site-packages (from werkzeug>=0.11.15->tensorboard<2.7,>=2.6.0->tensorflow) (0.8)\n",
      "Requirement already satisfied: zipp>=0.5 in d:\\python\\lib\\site-packages (from importlib-metadata>=4.4->markdown>=2.6.8->tensorboard<2.7,>=2.6.0->tensorflow) (3.6.0)\n",
      "Requirement already satisfied: pyasn1<0.5.0,>=0.4.6 in d:\\python\\lib\\site-packages (from pyasn1-modules>=0.2.1->google-auth<2,>=1.6.3->tensorboard<2.7,>=2.6.0->tensorflow) (0.4.8)\n",
      "Requirement already satisfied: oauthlib>=3.0.0 in d:\\python\\lib\\site-packages (from requests-oauthlib>=0.7.0->google-auth-oauthlib<0.5,>=0.4.1->tensorboard<2.7,>=2.6.0->tensorflow) (3.2.2)\n",
      "Note: you may need to restart the kernel to use updated packages.\n"
     ]
    }
   ],
   "source": [
    "pip install --upgrade tensorflow"
   ]
  },
  {
   "cell_type": "code",
   "execution_count": 2,
   "metadata": {
    "executionInfo": {
     "elapsed": 53649,
     "status": "ok",
     "timestamp": 1750587171535,
     "user": {
      "displayName": "PAWAR SAKSHI RAJENDRA",
      "userId": "08663417119460558839"
     },
     "user_tz": -330
    },
    "id": "WDVDriRI-8DK"
   },
   "outputs": [],
   "source": [
    "import pandas as pd\n",
    "import numpy as np\n",
    "from sklearn.model_selection import train_test_split\n",
    "from sklearn.preprocessing import StandardScaler\n",
    "from tensorflow.keras.models import Model\n",
    "from tensorflow.keras.layers import Input, Dense, GlobalAveragePooling2D\n",
    "from tensorflow.keras.applications import EfficientNetB0\n",
    "from tensorflow.keras.optimizers import Adam\n",
    "from skimage.transform import resize\n",
    "from sklearn.metrics import accuracy_score\n",
    "import tensorflow as tf\n",
    "import matplotlib.pyplot as plt"
   ]
  },
  {
   "cell_type": "code",
   "execution_count": 3,
   "metadata": {
    "colab": {
     "base_uri": "https://localhost:8080/"
    },
    "executionInfo": {
     "elapsed": 26289,
     "status": "ok",
     "timestamp": 1750587197832,
     "user": {
      "displayName": "PAWAR SAKSHI RAJENDRA",
      "userId": "08663417119460558839"
     },
     "user_tz": -330
    },
    "id": "5tddwqOx_VHf",
    "outputId": "3b0837ee-c278-4aab-81c1-d36abbb206e4"
   },
   "outputs": [],
   "source": [
    "\n",
    "df = pd.read_csv(r'C:\\Users\\Pranav Desai\\Desktop\\Chronic Disease\\Augmented kidney_dataset.csv')"
   ]
  },
  {
   "cell_type": "code",
   "execution_count": 4,
   "metadata": {
    "colab": {
     "base_uri": "https://localhost:8080/"
    },
    "executionInfo": {
     "elapsed": 13,
     "status": "ok",
     "timestamp": 1750587197854,
     "user": {
      "displayName": "PAWAR SAKSHI RAJENDRA",
      "userId": "08663417119460558839"
     },
     "user_tz": -330
    },
    "id": "tvU9a5NrQmZC",
    "outputId": "6db03ff5-dce5-4019-a7b8-d51f6abe01ed"
   },
   "outputs": [
    {
     "name": "stdout",
     "output_type": "stream",
     "text": [
      "<class 'pandas.core.frame.DataFrame'>\n",
      "RangeIndex: 10000 entries, 0 to 9999\n",
      "Data columns (total 25 columns):\n",
      " #   Column          Non-Null Count  Dtype  \n",
      "---  ------          --------------  -----  \n",
      " 0   age             10000 non-null  int64  \n",
      " 1   bp              10000 non-null  int64  \n",
      " 2   sg              10000 non-null  float64\n",
      " 3   al              10000 non-null  int64  \n",
      " 4   su              10000 non-null  int64  \n",
      " 5   rbc             10000 non-null  int64  \n",
      " 6   pc              10000 non-null  int64  \n",
      " 7   pcc             10000 non-null  int64  \n",
      " 8   ba              10000 non-null  int64  \n",
      " 9   bgr             10000 non-null  int64  \n",
      " 10  bu              10000 non-null  int64  \n",
      " 11  sc              10000 non-null  float64\n",
      " 12  sod             10000 non-null  float64\n",
      " 13  pot             10000 non-null  float64\n",
      " 14  hemo            10000 non-null  float64\n",
      " 15  pcv             10000 non-null  int64  \n",
      " 16  wc              10000 non-null  int64  \n",
      " 17  rc              10000 non-null  float64\n",
      " 18  htn             10000 non-null  int64  \n",
      " 19  dm              10000 non-null  int64  \n",
      " 20  cad             10000 non-null  int64  \n",
      " 21  appet           10000 non-null  int64  \n",
      " 22  pe              10000 non-null  int64  \n",
      " 23  ane             10000 non-null  int64  \n",
      " 24  classification  10000 non-null  int64  \n",
      "dtypes: float64(6), int64(19)\n",
      "memory usage: 1.9 MB\n"
     ]
    }
   ],
   "source": [
    "df.info()"
   ]
  },
  {
   "cell_type": "code",
   "execution_count": 5,
   "metadata": {
    "executionInfo": {
     "elapsed": 16,
     "status": "ok",
     "timestamp": 1750587197873,
     "user": {
      "displayName": "PAWAR SAKSHI RAJENDRA",
      "userId": "08663417119460558839"
     },
     "user_tz": -330
    },
    "id": "u6m5lfJ__fcO"
   },
   "outputs": [],
   "source": [
    "x = df.drop(\"classification\", axis=1).values\n",
    "y = df[\"classification\"].values\n",
    "\n"
   ]
  },
  {
   "cell_type": "code",
   "execution_count": 6,
   "metadata": {
    "executionInfo": {
     "elapsed": 25,
     "status": "ok",
     "timestamp": 1750587197902,
     "user": {
      "displayName": "PAWAR SAKSHI RAJENDRA",
      "userId": "08663417119460558839"
     },
     "user_tz": -330
    },
    "id": "UXK9pk7H_rqG"
   },
   "outputs": [],
   "source": [
    "# Normalize the input features\n",
    "scaler = StandardScaler()\n",
    "x_scaled = scaler.fit_transform(x)"
   ]
  },
  {
   "cell_type": "code",
   "execution_count": 7,
   "metadata": {
    "executionInfo": {
     "elapsed": 4320,
     "status": "ok",
     "timestamp": 1750587202225,
     "user": {
      "displayName": "PAWAR SAKSHI RAJENDRA",
      "userId": "08663417119460558839"
     },
     "user_tz": -330
    },
    "id": "I5Q-fesLQxsJ"
   },
   "outputs": [],
   "source": [
    "# Convert tabular rows to image\n",
    "def tabular_to_image(x_row, img_size=224):\n",
    "    side = int(np.ceil(np.sqrt(x_row.shape[0])))\n",
    "    padded = np.pad(x_row, (0, side*side - x_row.shape[0]), mode='constant')\n",
    "    image = padded.reshape(side, side)\n",
    "    image = np.stack([image]*3, axis=-1)\n",
    "    image_resized = resize(image, (img_size, img_size), mode='reflect', anti_aliasing=True)\n",
    "    return image_resized\n",
    "\n",
    "x_images = np.array([tabular_to_image(x) for x in x_scaled])\n"
   ]
  },
  {
   "cell_type": "code",
   "execution_count": 8,
   "metadata": {
    "executionInfo": {
     "elapsed": 189,
     "status": "ok",
     "timestamp": 1750587202418,
     "user": {
      "displayName": "PAWAR SAKSHI RAJENDRA",
      "userId": "08663417119460558839"
     },
     "user_tz": -330
    },
    "id": "0AkgiC1yQxfh"
   },
   "outputs": [],
   "source": [
    "x_train, x_test, y_train, y_test = train_test_split(x_images, y, test_size=0.2, random_state=42)\n"
   ]
  },
  {
   "cell_type": "code",
   "execution_count": 9,
   "metadata": {
    "colab": {
     "base_uri": "https://localhost:8080/"
    },
    "executionInfo": {
     "elapsed": 1526,
     "status": "ok",
     "timestamp": 1750587203982,
     "user": {
      "displayName": "PAWAR SAKSHI RAJENDRA",
      "userId": "08663417119460558839"
     },
     "user_tz": -330
    },
    "id": "1Q73IUVC0FpR",
    "outputId": "cb1d8c05-e379-48f8-9bcd-08d040bcc15d"
   },
   "outputs": [],
   "source": [
    "#Build EfficientNet Model\n",
    "base_model = EfficientNetB0(include_top=False, input_shape=(224, 224, 3), weights='imagenet')\n",
    "base_model.trainable = False  # Freeze base layers\n",
    "\n",
    "x = base_model.output\n",
    "x = GlobalAveragePooling2D()(x)\n",
    "x = Dense(64, activation='relu')(x)\n",
    "output = Dense(1, activation='sigmoid')(x)\n",
    "\n",
    "model = Model(inputs=base_model.input, outputs=output)\n",
    "model.compile(optimizer=Adam(), loss='binary_crossentropy', metrics=['accuracy'])\n"
   ]
  },
  {
   "cell_type": "code",
   "execution_count": 10,
   "metadata": {
    "colab": {
     "base_uri": "https://localhost:8080/"
    },
    "executionInfo": {
     "elapsed": 1000841,
     "status": "ok",
     "timestamp": 1750588204827,
     "user": {
      "displayName": "PAWAR SAKSHI RAJENDRA",
      "userId": "08663417119460558839"
     },
     "user_tz": -330
    },
    "id": "HvwyHtaZ0Vog",
    "outputId": "43665915-c24c-4e9f-f1e6-cd40d0ab800c"
   },
   "outputs": [
    {
     "name": "stdout",
     "output_type": "stream",
     "text": [
      "Epoch 1/30\n",
      "200/200 [==============================] - 19s 64ms/step - loss: 0.6624 - accuracy: 0.6264 - val_loss: 0.6658 - val_accuracy: 0.6206\n",
      "Epoch 2/30\n",
      "200/200 [==============================] - 11s 55ms/step - loss: 0.6637 - accuracy: 0.6300 - val_loss: 0.6652 - val_accuracy: 0.6206\n",
      "Epoch 3/30\n",
      "200/200 [==============================] - 11s 55ms/step - loss: 0.6607 - accuracy: 0.6300 - val_loss: 0.6639 - val_accuracy: 0.6206\n",
      "Epoch 4/30\n",
      "200/200 [==============================] - 11s 55ms/step - loss: 0.6611 - accuracy: 0.6300 - val_loss: 0.6667 - val_accuracy: 0.6206\n",
      "Epoch 5/30\n",
      "200/200 [==============================] - 11s 55ms/step - loss: 0.6595 - accuracy: 0.6300 - val_loss: 0.6635 - val_accuracy: 0.6206\n",
      "Epoch 6/30\n",
      "200/200 [==============================] - 11s 55ms/step - loss: 0.6600 - accuracy: 0.6300 - val_loss: 0.6634 - val_accuracy: 0.6206\n",
      "Epoch 7/30\n",
      "200/200 [==============================] - 11s 55ms/step - loss: 0.6588 - accuracy: 0.6300 - val_loss: 0.6638 - val_accuracy: 0.6206\n",
      "Epoch 8/30\n",
      "200/200 [==============================] - 11s 55ms/step - loss: 0.6592 - accuracy: 0.6300 - val_loss: 0.6633 - val_accuracy: 0.6206\n",
      "Epoch 9/30\n",
      "200/200 [==============================] - 11s 56ms/step - loss: 0.6593 - accuracy: 0.6300 - val_loss: 0.6646 - val_accuracy: 0.6206\n",
      "Epoch 10/30\n",
      "200/200 [==============================] - 11s 56ms/step - loss: 0.6596 - accuracy: 0.6300 - val_loss: 0.6630 - val_accuracy: 0.6206\n",
      "Epoch 11/30\n",
      "200/200 [==============================] - 11s 56ms/step - loss: 0.6585 - accuracy: 0.6300 - val_loss: 0.6631 - val_accuracy: 0.6206\n",
      "Epoch 12/30\n",
      "200/200 [==============================] - 11s 56ms/step - loss: 0.6585 - accuracy: 0.6300 - val_loss: 0.6629 - val_accuracy: 0.6206\n",
      "Epoch 13/30\n",
      "200/200 [==============================] - 11s 55ms/step - loss: 0.6588 - accuracy: 0.6300 - val_loss: 0.6627 - val_accuracy: 0.6206\n",
      "Epoch 14/30\n",
      "200/200 [==============================] - 11s 56ms/step - loss: 0.6588 - accuracy: 0.6300 - val_loss: 0.6642 - val_accuracy: 0.6206\n",
      "Epoch 15/30\n",
      "200/200 [==============================] - 11s 56ms/step - loss: 0.6598 - accuracy: 0.6300 - val_loss: 0.6631 - val_accuracy: 0.6206\n",
      "Epoch 16/30\n",
      "200/200 [==============================] - 11s 55ms/step - loss: 0.6594 - accuracy: 0.6300 - val_loss: 0.6631 - val_accuracy: 0.6206\n",
      "Epoch 17/30\n",
      "200/200 [==============================] - 11s 56ms/step - loss: 0.6591 - accuracy: 0.6300 - val_loss: 0.6632 - val_accuracy: 0.6206\n",
      "Epoch 18/30\n",
      "200/200 [==============================] - 11s 56ms/step - loss: 0.6593 - accuracy: 0.6300 - val_loss: 0.6631 - val_accuracy: 0.6206\n",
      "Epoch 19/30\n",
      "200/200 [==============================] - 11s 56ms/step - loss: 0.6586 - accuracy: 0.6300 - val_loss: 0.6632 - val_accuracy: 0.6206\n",
      "Epoch 20/30\n",
      "200/200 [==============================] - 11s 56ms/step - loss: 0.6586 - accuracy: 0.6300 - val_loss: 0.6630 - val_accuracy: 0.6206\n",
      "Epoch 21/30\n",
      "200/200 [==============================] - 11s 55ms/step - loss: 0.6585 - accuracy: 0.6300 - val_loss: 0.6626 - val_accuracy: 0.6206\n",
      "Epoch 22/30\n",
      "200/200 [==============================] - 11s 57ms/step - loss: 0.6583 - accuracy: 0.6300 - val_loss: 0.6673 - val_accuracy: 0.6206\n",
      "Epoch 23/30\n",
      "200/200 [==============================] - 11s 56ms/step - loss: 0.6592 - accuracy: 0.6300 - val_loss: 0.6628 - val_accuracy: 0.6206\n",
      "Epoch 24/30\n",
      "200/200 [==============================] - 11s 56ms/step - loss: 0.6591 - accuracy: 0.6300 - val_loss: 0.6629 - val_accuracy: 0.6206\n",
      "Epoch 25/30\n",
      "200/200 [==============================] - 11s 55ms/step - loss: 0.6584 - accuracy: 0.6300 - val_loss: 0.6634 - val_accuracy: 0.6206\n",
      "Epoch 26/30\n",
      "200/200 [==============================] - 11s 55ms/step - loss: 0.6585 - accuracy: 0.6300 - val_loss: 0.6640 - val_accuracy: 0.6206\n",
      "Epoch 27/30\n",
      "200/200 [==============================] - 11s 55ms/step - loss: 0.6589 - accuracy: 0.6300 - val_loss: 0.6634 - val_accuracy: 0.6206\n",
      "Epoch 28/30\n",
      "200/200 [==============================] - 11s 56ms/step - loss: 0.6590 - accuracy: 0.6300 - val_loss: 0.6628 - val_accuracy: 0.6206\n",
      "Epoch 29/30\n",
      "200/200 [==============================] - 11s 56ms/step - loss: 0.6597 - accuracy: 0.6300 - val_loss: 0.6628 - val_accuracy: 0.6206\n",
      "Epoch 30/30\n",
      "200/200 [==============================] - 11s 55ms/step - loss: 0.6588 - accuracy: 0.6300 - val_loss: 0.6628 - val_accuracy: 0.6206\n"
     ]
    }
   ],
   "source": [
    "history = model.fit(x_train, y_train, epochs=30, batch_size=32, validation_split=0.2)"
   ]
  },
  {
   "cell_type": "code",
   "execution_count": 11,
   "metadata": {
    "colab": {
     "base_uri": "https://localhost:8080/"
    },
    "executionInfo": {
     "elapsed": 12190,
     "status": "ok",
     "timestamp": 1750588217021,
     "user": {
      "displayName": "PAWAR SAKSHI RAJENDRA",
      "userId": "08663417119460558839"
     },
     "user_tz": -330
    },
    "id": "1yjM8usE0YqT",
    "outputId": "c9ee7e1d-f3d0-4911-b596-26fc38798053"
   },
   "outputs": [
    {
     "name": "stdout",
     "output_type": "stream",
     "text": [
      "Test Accuracy: 0.6125\n"
     ]
    }
   ],
   "source": [
    "# 🧪 Evaluate\n",
    "y_pred = (model.predict(x_test) > 0.5).astype(\"int32\")\n",
    "print(\"Test Accuracy:\", accuracy_score(y_test, y_pred))\n"
   ]
  },
  {
   "cell_type": "code",
   "execution_count": 12,
   "metadata": {
    "executionInfo": {
     "elapsed": 2,
     "status": "ok",
     "timestamp": 1750588217036,
     "user": {
      "displayName": "PAWAR SAKSHI RAJENDRA",
      "userId": "08663417119460558839"
     },
     "user_tz": -330
    },
    "id": "nbxDImsDhmQV"
   },
   "outputs": [],
   "source": [
    "# Extract values from history\n",
    "loss = history.history['loss']\n",
    "val_loss = history.history['val_loss']\n",
    "accuracy = history.history.get('accuracy', history.history.get('acc'))  # Some versions use 'acc'\n",
    "val_accuracy = history.history.get('val_accuracy', history.history.get('val_acc'))\n",
    "\n",
    "epochs = range(1, len(loss) + 1)\n"
   ]
  },
  {
   "cell_type": "code",
   "execution_count": 13,
   "metadata": {
    "colab": {
     "base_uri": "https://localhost:8080/",
     "height": 504
    },
    "executionInfo": {
     "elapsed": 696,
     "status": "ok",
     "timestamp": 1750588217733,
     "user": {
      "displayName": "PAWAR SAKSHI RAJENDRA",
      "userId": "08663417119460558839"
     },
     "user_tz": -330
    },
    "id": "-BeH-CYKhoN2",
    "outputId": "76621d5e-db77-4114-8f46-49a4053e2576"
   },
   "outputs": [
    {
     "data": {
      "text/plain": [
       "<matplotlib.legend.Legend at 0x1fbe448c4e0>"
      ]
     },
     "execution_count": 13,
     "metadata": {},
     "output_type": "execute_result"
    },
    {
     "data": {
      "image/png": "[encoded data removed]",
      "text/plain": [
       "<Figure size 864x360 with 1 Axes>"
      ]
     },
     "metadata": {
      "needs_background": "light"
     },
     "output_type": "display_data"
    }
   ],
   "source": [
    "# Plot Loss\n",
    "plt.figure(figsize=(12, 5))\n",
    "plt.subplot(1, 2, 1)\n",
    "plt.plot(epochs, loss, 'bo-', label='Training Loss')\n",
    "plt.plot(epochs, val_loss, 'r*-', label='Validation Loss')\n",
    "plt.xlabel('Epochs')\n",
    "plt.ylabel('Loss')\n",
    "plt.title('Model Loss Over Epochs')\n",
    "plt.legend()"
   ]
  },
  {
   "cell_type": "code",
   "execution_count": 14,
   "metadata": {
    "colab": {
     "base_uri": "https://localhost:8080/",
     "height": 407
    },
    "executionInfo": {
     "elapsed": 33,
     "status": "ok",
     "timestamp": 1750588217767,
     "user": {
      "displayName": "PAWAR SAKSHI RAJENDRA",
      "userId": "08663417119460558839"
     },
     "user_tz": -330
    },
    "id": "3hqzNGhLhpuF",
    "outputId": "f42c4fb9-bc27-4b08-f372-e58727abecce"
   },
   "outputs": [
    {
     "data": {
      "image/png": "[encoded data removed]",
      "text/plain": [
       "<Figure size 864x288 with 1 Axes>"
      ]
     },
     "metadata": {
      "needs_background": "light"
     },
     "output_type": "display_data"
    }
   ],
   "source": [
    "plt.figure(figsize=(12, 4))\n",
    "plt.subplot(1, 2, 2)\n",
    "plt.plot(epochs, accuracy, 'bo-', label='Training Accuracy')\n",
    "plt.plot(epochs, val_accuracy, 'r*-', label='Validation Accuracy')\n",
    "plt.xlabel('Epochs')\n",
    "plt.ylabel('Accuracy')\n",
    "plt.title('Model Accuracy Over Epochs')\n",
    "plt.legend()\n",
    "\n",
    "plt.tight_layout()\n",
    "plt.show()"
   ]
  },
  {
   "cell_type": "code",
   "execution_count": 15,
   "metadata": {
    "colab": {
     "base_uri": "https://localhost:8080/"
    },
    "executionInfo": {
     "elapsed": 23092,
     "status": "ok",
     "timestamp": 1750588240860,
     "user": {
      "displayName": "PAWAR SAKSHI RAJENDRA",
      "userId": "08663417119460558839"
     },
     "user_tz": -330
    },
    "id": "qnAbFDPOwT4H",
    "outputId": "7bc93d3f-d27b-47fc-aaf3-fdbb3dbf0ff5"
   },
   "outputs": [
    {
     "name": "stdout",
     "output_type": "stream",
     "text": [
      "WARNING:tensorflow:From d:\\Python\\lib\\site-packages\\tensorflow\\python\\profiler\\internal\\flops_registry.py:142: tensor_shape_from_node_def_name (from tensorflow.python.framework.graph_util_impl) is deprecated and will be removed in a future version.\n",
      "Instructions for updating:\n",
      "Use `tf.compat.v1.graph_util.tensor_shape_from_node_def_name`\n"
     ]
    },
    {
     "name": "stderr",
     "output_type": "stream",
     "text": [
      "d:\\Python\\lib\\site-packages\\keras\\utils\\generic_utils.py:497: CustomMaskWarning: Custom mask layers require a config and must override get_config. When loading, the custom mask layer must be passed to the custom_objects argument.\n",
      "  category=CustomMaskWarning)\n"
     ]
    },
    {
     "data": {
      "text/plain": [
       "{'total_parameters': 4131620,\n",
       " 'FLOPs': 780528156,\n",
       " 'GFLOPs': 0.780528156,\n",
       " 'model_size_bytes': 17849544,\n",
       " 'model_size_MB': 17.02265167236328,\n",
       " 'inference_time_seconds': 3.7448694705963135,\n",
       " 'accuracy': 0.612500011920929}"
      ]
     },
     "execution_count": 15,
     "metadata": {},
     "output_type": "execute_result"
    }
   ],
   "source": [
    "import tensorflow as tf\n",
    "import os\n",
    "import time\n",
    "from tensorflow.python.framework.convert_to_constants import convert_variables_to_constants_v2\n",
    "from tensorflow.python.profiler import model_analyzer\n",
    "from tensorflow.python.profiler.option_builder import ProfileOptionBuilder\n",
    "\n",
    "def evaluate_model_metrics(model, x_test, y_test, model_name=\"model_metrics\"):\n",
    "    results = {}\n",
    "\n",
    "    # Total Parameters\n",
    "    results['total_parameters'] = model.count_params()\n",
    "\n",
    "    # FLOPs Calculation\n",
    "    func = tf.function(lambda x: model(x))\n",
    "    concrete_func = func.get_concrete_function(\n",
    "        tf.TensorSpec([1] + list(model.input_shape[1:]), model.inputs[0].dtype)\n",
    "    )\n",
    "    frozen_func = convert_variables_to_constants_v2(concrete_func)\n",
    "    flops = model_analyzer.profile(\n",
    "        graph=frozen_func.graph,\n",
    "        options=ProfileOptionBuilder.float_operation()\n",
    "    ).total_float_ops\n",
    "    results['FLOPs'] = flops\n",
    "    results['GFLOPs'] = flops / 1e9\n",
    "\n",
    "    # Model Size\n",
    "    model_path = f\"{model_name}.h5\"\n",
    "    model.save(model_path)\n",
    "    size_bytes = os.path.getsize(model_path)\n",
    "    results['model_size_bytes'] = size_bytes\n",
    "    results['model_size_MB'] = size_bytes / (1024 * 1024)\n",
    "\n",
    "    # Inference Time\n",
    "    start = time.time()\n",
    "    model.predict(x_test)\n",
    "    end = time.time()\n",
    "    results['inference_time_seconds'] = end - start\n",
    "\n",
    "    # Accuracy\n",
    "    loss, acc = model.evaluate(x_test, y_test, verbose=0)\n",
    "    results['accuracy'] = acc\n",
    "\n",
    "    return results\n",
    "evaluate_model_metrics(model, x_test, y_test, model_name=\"model_metrics\")"
   ]
  }
 ],
 "metadata": {
  "accelerator": "TPU",
  "colab": {
   "gpuType": "V28",
   "provenance": []
  },
  "kernelspec": {
   "display_name": "Python 3",
   "name": "python3"
  },
  "language_info": {
   "codemirror_mode": {
    "name": "ipython",
    "version": 3
   },
   "file_extension": ".py",
   "mimetype": "text/x-python",
   "name": "python",
   "nbconvert_exporter": "python",
   "pygments_lexer": "ipython3",
   "version": "3.6.2"
  }
 },
 "nbformat": 4,
 "nbformat_minor": 0
}
