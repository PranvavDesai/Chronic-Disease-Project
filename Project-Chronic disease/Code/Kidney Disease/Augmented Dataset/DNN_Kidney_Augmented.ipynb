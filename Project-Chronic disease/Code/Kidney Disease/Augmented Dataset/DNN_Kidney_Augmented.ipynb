{
 "cells": [
  {
   "cell_type": "code",
   "execution_count": 1,
   "metadata": {
    "colab": {
     "base_uri": "https://localhost:8080/"
    },
    "executionInfo": {
     "elapsed": 53657,
     "status": "ok",
     "timestamp": 1750585880114,
     "user": {
      "displayName": "PAWAR SAKSHI RAJENDRA",
      "userId": "08663417119460558839"
     },
     "user_tz": -330
    },
    "id": "Y-lhKBrvCy--",
    "outputId": "219aabeb-033b-447c-eb9b-0172f9726faa"
   },
   "outputs": [
    {
     "name": "stdout",
     "output_type": "stream",
     "text": [
      "Requirement already satisfied: tensorflow in d:\\python\\lib\\site-packages (2.6.2)\n",
      "Requirement already satisfied: keras<2.7,>=2.6.0 in d:\\python\\lib\\site-packages (from tensorflow) (2.6.0)\n",
      "Requirement already satisfied: h5py~=3.1.0 in d:\\python\\lib\\site-packages (from tensorflow) (3.1.0)\n",
      "Requirement already satisfied: opt-einsum~=3.3.0 in d:\\python\\lib\\site-packages (from tensorflow) (3.3.0)\n",
      "Requirement already satisfied: keras-preprocessing~=1.1.2 in d:\\python\\lib\\site-packages (from tensorflow) (1.1.2)\n",
      "Requirement already satisfied: gast==0.4.0 in d:\\python\\lib\\site-packages (from tensorflow) (0.4.0)\n",
      "Requirement already satisfied: six~=1.15.0 in d:\\python\\lib\\site-packages (from tensorflow) (1.15.0)\n",
      "Requirement already satisfied: tensorflow-estimator<2.7,>=2.6.0 in d:\\python\\lib\\site-packages (from tensorflow) (2.6.0)\n",
      "Requirement already satisfied: grpcio<2.0,>=1.37.0 in d:\\python\\lib\\site-packages (from tensorflow) (1.48.2)\n",
      "Requirement already satisfied: wheel~=0.35 in d:\\python\\lib\\site-packages (from tensorflow) (0.37.1)\n",
      "Requirement already satisfied: wrapt~=1.12.1 in d:\\python\\lib\\site-packages (from tensorflow) (1.12.1)\n",
      "Requirement already satisfied: protobuf>=3.9.2 in d:\\python\\lib\\site-packages (from tensorflow) (3.19.6)\n",
      "Requirement already satisfied: termcolor~=1.1.0 in d:\\python\\lib\\site-packages (from tensorflow) (1.1.0)\n",
      "Requirement already satisfied: typing-extensions~=3.7.4 in d:\\python\\lib\\site-packages (from tensorflow) (3.7.4.3)\n",
      "Requirement already satisfied: numpy~=1.19.2 in d:\\python\\lib\\site-packages (from tensorflow) (1.19.5)\n",
      "Requirement already satisfied: google-pasta~=0.2 in d:\\python\\lib\\site-packages (from tensorflow) (0.2.0)\n",
      "Requirement already satisfied: tensorboard<2.7,>=2.6.0 in d:\\python\\lib\\site-packages (from tensorflow) (2.6.0)\n",
      "Requirement already satisfied: astunparse~=1.6.3 in d:\\python\\lib\\site-packages (from tensorflow) (1.6.3)\n",
      "Requirement already satisfied: clang~=5.0 in d:\\python\\lib\\site-packages (from tensorflow) (5.0)\n",
      "Requirement already satisfied: absl-py~=0.10 in d:\\python\\lib\\site-packages (from tensorflow) (0.15.0)\n",
      "Requirement already satisfied: flatbuffers~=1.12.0 in d:\\python\\lib\\site-packages (from tensorflow) (1.12)\n",
      "Requirement already satisfied: cached-property in d:\\python\\lib\\site-packages (from h5py~=3.1.0->tensorflow) (1.5.2)\n",
      "Requirement already satisfied: google-auth-oauthlib<0.5,>=0.4.1 in d:\\python\\lib\\site-packages (from tensorboard<2.7,>=2.6.0->tensorflow) (0.4.6)\n",
      "Requirement already satisfied: requests<3,>=2.21.0 in d:\\python\\lib\\site-packages (from tensorboard<2.7,>=2.6.0->tensorflow) (2.27.1)\n",
      "Requirement already satisfied: setuptools>=41.0.0 in d:\\python\\lib\\site-packages (from tensorboard<2.7,>=2.6.0->tensorflow) (59.6.0)\n",
      "Requirement already satisfied: markdown>=2.6.8 in d:\\python\\lib\\site-packages (from tensorboard<2.7,>=2.6.0->tensorflow) (3.3.7)\n",
      "Requirement already satisfied: werkzeug>=0.11.15 in d:\\python\\lib\\site-packages (from tensorboard<2.7,>=2.6.0->tensorflow) (2.0.3)\n",
      "Requirement already satisfied: google-auth<2,>=1.6.3 in d:\\python\\lib\\site-packages (from tensorboard<2.7,>=2.6.0->tensorflow) (1.35.0)\n",
      "Requirement already satisfied: tensorboard-plugin-wit>=1.6.0 in d:\\python\\lib\\site-packages (from tensorboard<2.7,>=2.6.0->tensorflow) (1.8.1)\n",
      "Requirement already satisfied: tensorboard-data-server<0.7.0,>=0.6.0 in d:\\python\\lib\\site-packages (from tensorboard<2.7,>=2.6.0->tensorflow) (0.6.1)\n",
      "Requirement already satisfied: pyasn1-modules>=0.2.1 in d:\\python\\lib\\site-packages (from google-auth<2,>=1.6.3->tensorboard<2.7,>=2.6.0->tensorflow) (0.2.8)\n",
      "Requirement already satisfied: cachetools<5.0,>=2.0.0 in d:\\python\\lib\\site-packages (from google-auth<2,>=1.6.3->tensorboard<2.7,>=2.6.0->tensorflow) (4.2.4)\n",
      "Requirement already satisfied: rsa<5,>=3.1.4 in d:\\python\\lib\\site-packages (from google-auth<2,>=1.6.3->tensorboard<2.7,>=2.6.0->tensorflow) (4.9)\n",
      "Requirement already satisfied: requests-oauthlib>=0.7.0 in d:\\python\\lib\\site-packages (from google-auth-oauthlib<0.5,>=0.4.1->tensorboard<2.7,>=2.6.0->tensorflow) (1.3.1)\n",
      "Requirement already satisfied: importlib-metadata>=4.4 in d:\\python\\lib\\site-packages (from markdown>=2.6.8->tensorboard<2.7,>=2.6.0->tensorflow) (4.8.3)\n",
      "Requirement already satisfied: charset-normalizer~=2.0.0 in d:\\python\\lib\\site-packages (from requests<3,>=2.21.0->tensorboard<2.7,>=2.6.0->tensorflow) (2.0.12)\n",
      "Requirement already satisfied: idna<4,>=2.5 in d:\\python\\lib\\site-packages (from requests<3,>=2.21.0->tensorboard<2.7,>=2.6.0->tensorflow) (3.3)\n",
      "Requirement already satisfied: urllib3<1.27,>=1.21.1 in d:\\python\\lib\\site-packages (from requests<3,>=2.21.0->tensorboard<2.7,>=2.6.0->tensorflow) (1.26.10)\n",
      "Requirement already satisfied: certifi>=2017.4.17 in d:\\python\\lib\\site-packages (from requests<3,>=2.21.0->tensorboard<2.7,>=2.6.0->tensorflow) (2022.6.15)\n",
      "Requirement already satisfied: dataclasses in d:\\python\\lib\\site-packages (from werkzeug>=0.11.15->tensorboard<2.7,>=2.6.0->tensorflow) (0.8)\n",
      "Requirement already satisfied: zipp>=0.5 in d:\\python\\lib\\site-packages (from importlib-metadata>=4.4->markdown>=2.6.8->tensorboard<2.7,>=2.6.0->tensorflow) (3.6.0)\n",
      "Requirement already satisfied: pyasn1<0.5.0,>=0.4.6 in d:\\python\\lib\\site-packages (from pyasn1-modules>=0.2.1->google-auth<2,>=1.6.3->tensorboard<2.7,>=2.6.0->tensorflow) (0.4.8)\n",
      "Requirement already satisfied: oauthlib>=3.0.0 in d:\\python\\lib\\site-packages (from requests-oauthlib>=0.7.0->google-auth-oauthlib<0.5,>=0.4.1->tensorboard<2.7,>=2.6.0->tensorflow) (3.2.2)\n",
      "Note: you may need to restart the kernel to use updated packages.\n"
     ]
    }
   ],
   "source": [
    "pip install --upgrade tensorflow"
   ]
  },
  {
   "cell_type": "code",
   "execution_count": 2,
   "metadata": {
    "executionInfo": {
     "elapsed": 19031,
     "status": "ok",
     "timestamp": 1750585899154,
     "user": {
      "displayName": "PAWAR SAKSHI RAJENDRA",
      "userId": "08663417119460558839"
     },
     "user_tz": -330
    },
    "id": "S6kQl3SnBvpt"
   },
   "outputs": [],
   "source": [
    "import pandas as pd\n",
    "import numpy as np\n",
    "import matplotlib.pyplot as plt\n",
    "import seaborn as sns\n",
    "from sklearn.model_selection import train_test_split\n",
    "from sklearn.preprocessing import RobustScaler\n",
    "from sklearn.metrics import classification_report, accuracy_score\n",
    "from tensorflow.keras.models import Sequential\n",
    "from tensorflow.keras.layers import Dense, Dropout, BatchNormalization, LeakyReLU\n",
    "from tensorflow.keras.callbacks import EarlyStopping, ReduceLROnPlateau\n",
    "from tensorflow.keras.regularizers import l2"
   ]
  },
  {
   "cell_type": "code",
   "execution_count": 3,
   "metadata": {
    "colab": {
     "base_uri": "https://localhost:8080/"
    },
    "executionInfo": {
     "elapsed": 22182,
     "status": "ok",
     "timestamp": 1750585921334,
     "user": {
      "displayName": "PAWAR SAKSHI RAJENDRA",
      "userId": "08663417119460558839"
     },
     "user_tz": -330
    },
    "id": "c1jZ0mJaE4o8",
    "outputId": "660fe3cc-208b-4fec-afa3-a9aad831951c"
   },
   "outputs": [],
   "source": [
    "\n",
    "\n",
    "df = pd.read_csv(r'C:\\Users\\Pranav Desai\\Desktop\\Chronic Disease\\Augmented kidney_dataset.csv')\n"
   ]
  },
  {
   "cell_type": "code",
   "execution_count": 4,
   "metadata": {
    "executionInfo": {
     "elapsed": 5,
     "status": "ok",
     "timestamp": 1750585921345,
     "user": {
      "displayName": "PAWAR SAKSHI RAJENDRA",
      "userId": "08663417119460558839"
     },
     "user_tz": -330
    },
    "id": "DwEW70WSFJLY"
   },
   "outputs": [],
   "source": [
    "x = df.drop(\"classification\", axis=1).values\n",
    "y = df[\"classification\"].values\n"
   ]
  },
  {
   "cell_type": "code",
   "execution_count": 5,
   "metadata": {
    "executionInfo": {
     "elapsed": 40,
     "status": "ok",
     "timestamp": 1750585921391,
     "user": {
      "displayName": "PAWAR SAKSHI RAJENDRA",
      "userId": "08663417119460558839"
     },
     "user_tz": -330
    },
    "id": "rvK0k4pMFSgv"
   },
   "outputs": [],
   "source": [
    "scaler = RobustScaler()\n",
    "x_scaled = scaler.fit_transform(x)"
   ]
  },
  {
   "cell_type": "code",
   "execution_count": 6,
   "metadata": {
    "executionInfo": {
     "elapsed": 4,
     "status": "ok",
     "timestamp": 1750585921401,
     "user": {
      "displayName": "PAWAR SAKSHI RAJENDRA",
      "userId": "08663417119460558839"
     },
     "user_tz": -330
    },
    "id": "hawrrhfjFVYi"
   },
   "outputs": [],
   "source": [
    "x_train, x_test, y_train, y_test = train_test_split(x_scaled, y, test_size=0.2, random_state=42, stratify=y)\n"
   ]
  },
  {
   "cell_type": "code",
   "execution_count": 7,
   "metadata": {
    "colab": {
     "base_uri": "https://localhost:8080/"
    },
    "executionInfo": {
     "elapsed": 99,
     "status": "ok",
     "timestamp": 1750585921504,
     "user": {
      "displayName": "PAWAR SAKSHI RAJENDRA",
      "userId": "08663417119460558839"
     },
     "user_tz": -330
    },
    "id": "hTgt7PTQFdNb",
    "outputId": "7b695a11-8548-43bc-db05-04760f5d0f69"
   },
   "outputs": [],
   "source": [
    "model = Sequential([\n",
    "    Dense(512, kernel_regularizer=l2(0.001), input_shape=(x_train.shape[1],)),\n",
    "    LeakyReLU(alpha=0.1),\n",
    "    BatchNormalization(),\n",
    "    Dropout(0.3),\n",
    "\n",
    "    Dense(256, kernel_regularizer=l2(0.001)),\n",
    "    LeakyReLU(alpha=0.1),\n",
    "    BatchNormalization(),\n",
    "    Dropout(0.3),\n",
    "\n",
    "    Dense(128, kernel_regularizer=l2(0.001)),\n",
    "    LeakyReLU(alpha=0.1),\n",
    "    BatchNormalization(),\n",
    "    Dropout(0.3),\n",
    "\n",
    "    Dense(64, kernel_regularizer=l2(0.001)),\n",
    "    LeakyReLU(alpha=0.1),\n",
    "    BatchNormalization(),\n",
    "    Dropout(0.3),\n",
    "\n",
    "    Dense(32, kernel_regularizer=l2(0.001)),\n",
    "    LeakyReLU(alpha=0.1),\n",
    "    BatchNormalization(),\n",
    "    Dropout(0.3),\n",
    "\n",
    "    Dense(16, kernel_regularizer=l2(0.001)),\n",
    "    LeakyReLU(alpha=0.1),\n",
    "    BatchNormalization(),\n",
    "    Dropout(0.3),\n",
    "\n",
    "    Dense(1, activation='sigmoid')\n",
    "])\n"
   ]
  },
  {
   "cell_type": "code",
   "execution_count": 8,
   "metadata": {
    "executionInfo": {
     "elapsed": 11,
     "status": "ok",
     "timestamp": 1750585921523,
     "user": {
      "displayName": "PAWAR SAKSHI RAJENDRA",
      "userId": "08663417119460558839"
     },
     "user_tz": -330
    },
    "id": "w3OguM1xFdsz"
   },
   "outputs": [],
   "source": [
    "model.compile(optimizer='adam', loss='binary_crossentropy', metrics=['accuracy'])"
   ]
  },
  {
   "cell_type": "code",
   "execution_count": 9,
   "metadata": {
    "executionInfo": {
     "elapsed": 11,
     "status": "ok",
     "timestamp": 1750585921603,
     "user": {
      "displayName": "PAWAR SAKSHI RAJENDRA",
      "userId": "08663417119460558839"
     },
     "user_tz": -330
    },
    "id": "kSLvsrAsgfR2"
   },
   "outputs": [],
   "source": [
    "early_stop = EarlyStopping(patience=15, restore_best_weights=True, monitor='val_loss')\n",
    "reduce_lr = ReduceLROnPlateau(factor=0.5, patience=5, verbose=1)\n"
   ]
  },
  {
   "cell_type": "code",
   "execution_count": 10,
   "metadata": {
    "colab": {
     "base_uri": "https://localhost:8080/"
    },
    "executionInfo": {
     "elapsed": 13616,
     "status": "ok",
     "timestamp": 1750585935222,
     "user": {
      "displayName": "PAWAR SAKSHI RAJENDRA",
      "userId": "08663417119460558839"
     },
     "user_tz": -330
    },
    "id": "O9ddAeMQFhBc",
    "outputId": "83bb3009-be1b-4d01-98d6-6e1d72ae1ce5"
   },
   "outputs": [
    {
     "name": "stdout",
     "output_type": "stream",
     "text": [
      "Epoch 1/52\n",
      "200/200 [==============================] - 5s 14ms/step - loss: 0.9261 - accuracy: 0.9133 - val_loss: 0.7654 - val_accuracy: 0.9800\n",
      "Epoch 2/52\n",
      "200/200 [==============================] - 3s 13ms/step - loss: 0.6916 - accuracy: 0.9809 - val_loss: 0.5989 - val_accuracy: 0.9931\n",
      "Epoch 3/52\n",
      "200/200 [==============================] - 3s 14ms/step - loss: 0.5728 - accuracy: 0.9905 - val_loss: 0.4884 - val_accuracy: 1.0000\n",
      "Epoch 4/52\n",
      "200/200 [==============================] - 3s 15ms/step - loss: 0.4714 - accuracy: 0.9917 - val_loss: 0.4018 - val_accuracy: 1.0000\n",
      "Epoch 5/52\n",
      "200/200 [==============================] - 3s 15ms/step - loss: 0.4112 - accuracy: 0.9867 - val_loss: 0.3370 - val_accuracy: 1.0000\n",
      "Epoch 6/52\n",
      "200/200 [==============================] - 3s 15ms/step - loss: 0.3300 - accuracy: 0.9933 - val_loss: 0.2716 - val_accuracy: 1.0000\n",
      "Epoch 7/52\n",
      "200/200 [==============================] - 3s 15ms/step - loss: 0.2794 - accuracy: 0.9922 - val_loss: 0.2258 - val_accuracy: 1.0000\n",
      "Epoch 8/52\n",
      "200/200 [==============================] - 3s 15ms/step - loss: 0.2326 - accuracy: 0.9934 - val_loss: 0.1912 - val_accuracy: 1.0000\n",
      "Epoch 9/52\n",
      "200/200 [==============================] - 3s 14ms/step - loss: 0.2171 - accuracy: 0.9908 - val_loss: 0.1647 - val_accuracy: 1.0000\n",
      "Epoch 10/52\n",
      "200/200 [==============================] - 3s 15ms/step - loss: 0.1603 - accuracy: 0.9978 - val_loss: 0.1292 - val_accuracy: 1.0000\n",
      "Epoch 11/52\n",
      "200/200 [==============================] - 3s 14ms/step - loss: 0.1256 - accuracy: 0.9970 - val_loss: 0.1081 - val_accuracy: 1.0000\n",
      "Epoch 12/52\n",
      "200/200 [==============================] - 3s 17ms/step - loss: 0.1490 - accuracy: 0.9891 - val_loss: 0.1062 - val_accuracy: 1.0000\n",
      "Epoch 13/52\n",
      "200/200 [==============================] - 3s 14ms/step - loss: 0.1222 - accuracy: 0.9947 - val_loss: 0.1025 - val_accuracy: 0.9962\n",
      "Epoch 14/52\n",
      "200/200 [==============================] - 3s 14ms/step - loss: 0.1066 - accuracy: 0.9945 - val_loss: 0.0848 - val_accuracy: 1.0000\n",
      "Epoch 15/52\n",
      "200/200 [==============================] - 3s 13ms/step - loss: 0.1181 - accuracy: 0.9928 - val_loss: 0.0852 - val_accuracy: 1.0000\n",
      "Epoch 16/52\n",
      "200/200 [==============================] - 3s 13ms/step - loss: 0.0977 - accuracy: 0.9956 - val_loss: 0.0761 - val_accuracy: 1.0000\n",
      "Epoch 17/52\n",
      "200/200 [==============================] - 3s 14ms/step - loss: 0.0832 - accuracy: 0.9967 - val_loss: 0.0690 - val_accuracy: 1.0000\n",
      "Epoch 18/52\n",
      "200/200 [==============================] - 3s 14ms/step - loss: 0.1063 - accuracy: 0.9931 - val_loss: 0.0757 - val_accuracy: 1.0000\n",
      "Epoch 19/52\n",
      "200/200 [==============================] - 3s 13ms/step - loss: 0.0863 - accuracy: 0.9955 - val_loss: 0.0731 - val_accuracy: 0.9975\n",
      "Epoch 20/52\n",
      "200/200 [==============================] - 3s 14ms/step - loss: 0.0902 - accuracy: 0.9950 - val_loss: 0.0724 - val_accuracy: 0.9956\n",
      "Epoch 21/52\n",
      "200/200 [==============================] - 3s 14ms/step - loss: 0.0762 - accuracy: 0.9959 - val_loss: 0.0571 - val_accuracy: 1.0000\n",
      "Epoch 22/52\n",
      "200/200 [==============================] - 3s 14ms/step - loss: 0.0848 - accuracy: 0.9953 - val_loss: 0.0638 - val_accuracy: 1.0000\n",
      "Epoch 23/52\n",
      "200/200 [==============================] - 3s 13ms/step - loss: 0.0763 - accuracy: 0.9953 - val_loss: 0.0593 - val_accuracy: 1.0000\n",
      "Epoch 24/52\n",
      "200/200 [==============================] - 3s 13ms/step - loss: 0.0740 - accuracy: 0.9975 - val_loss: 0.0566 - val_accuracy: 1.0000\n",
      "Epoch 25/52\n",
      "200/200 [==============================] - 3s 13ms/step - loss: 0.0785 - accuracy: 0.9962 - val_loss: 0.0609 - val_accuracy: 1.0000\n",
      "Epoch 26/52\n",
      "200/200 [==============================] - 3s 14ms/step - loss: 0.0825 - accuracy: 0.9956 - val_loss: 0.0564 - val_accuracy: 1.0000\n",
      "Epoch 27/52\n",
      "200/200 [==============================] - 3s 14ms/step - loss: 0.0703 - accuracy: 0.9964 - val_loss: 0.0523 - val_accuracy: 1.0000\n",
      "Epoch 28/52\n",
      "200/200 [==============================] - 3s 14ms/step - loss: 0.0598 - accuracy: 0.9977 - val_loss: 0.0546 - val_accuracy: 1.0000\n",
      "Epoch 29/52\n",
      "200/200 [==============================] - 3s 13ms/step - loss: 0.0756 - accuracy: 0.9947 - val_loss: 0.0654 - val_accuracy: 1.0000\n",
      "Epoch 30/52\n",
      "200/200 [==============================] - 3s 13ms/step - loss: 0.0669 - accuracy: 0.9981 - val_loss: 0.0535 - val_accuracy: 1.0000\n",
      "Epoch 31/52\n",
      "200/200 [==============================] - 3s 15ms/step - loss: 0.0689 - accuracy: 0.9969 - val_loss: 0.0497 - val_accuracy: 1.0000\n",
      "Epoch 32/52\n",
      "200/200 [==============================] - 3s 15ms/step - loss: 0.0525 - accuracy: 0.9984 - val_loss: 0.0495 - val_accuracy: 1.0000\n",
      "Epoch 33/52\n",
      "200/200 [==============================] - 3s 16ms/step - loss: 0.0770 - accuracy: 0.9959 - val_loss: 0.0538 - val_accuracy: 1.0000\n",
      "Epoch 34/52\n",
      "200/200 [==============================] - 3s 14ms/step - loss: 0.0607 - accuracy: 0.9977 - val_loss: 0.0456 - val_accuracy: 1.0000\n",
      "Epoch 35/52\n",
      "200/200 [==============================] - 3s 14ms/step - loss: 0.0475 - accuracy: 0.9983 - val_loss: 0.0404 - val_accuracy: 1.0000\n",
      "Epoch 36/52\n",
      "200/200 [==============================] - 3s 14ms/step - loss: 0.0746 - accuracy: 0.9961 - val_loss: 0.0555 - val_accuracy: 1.0000\n",
      "Epoch 37/52\n",
      "200/200 [==============================] - 3s 16ms/step - loss: 0.0623 - accuracy: 0.9978 - val_loss: 0.0668 - val_accuracy: 0.9962\n",
      "Epoch 38/52\n",
      "200/200 [==============================] - 3s 16ms/step - loss: 0.0503 - accuracy: 0.9994 - val_loss: 0.0398 - val_accuracy: 1.0000\n",
      "Epoch 39/52\n",
      "200/200 [==============================] - 3s 15ms/step - loss: 0.0463 - accuracy: 0.9975 - val_loss: 0.0428 - val_accuracy: 1.0000\n",
      "Epoch 40/52\n",
      "200/200 [==============================] - 3s 14ms/step - loss: 0.0566 - accuracy: 0.9972 - val_loss: 0.0419 - val_accuracy: 1.0000\n",
      "Epoch 41/52\n",
      "200/200 [==============================] - 3s 14ms/step - loss: 0.0360 - accuracy: 0.9995 - val_loss: 0.0293 - val_accuracy: 1.0000\n",
      "Epoch 42/52\n",
      "200/200 [==============================] - 3s 14ms/step - loss: 0.0600 - accuracy: 0.9959 - val_loss: 0.0541 - val_accuracy: 1.0000\n",
      "Epoch 43/52\n",
      "200/200 [==============================] - 3s 14ms/step - loss: 0.0533 - accuracy: 0.9987 - val_loss: 0.0492 - val_accuracy: 1.0000\n",
      "Epoch 44/52\n",
      "200/200 [==============================] - 3s 13ms/step - loss: 0.0437 - accuracy: 0.9989 - val_loss: 0.0379 - val_accuracy: 1.0000\n",
      "Epoch 45/52\n",
      "200/200 [==============================] - 3s 14ms/step - loss: 0.0348 - accuracy: 0.9997 - val_loss: 0.0286 - val_accuracy: 1.0000\n",
      "Epoch 46/52\n",
      "200/200 [==============================] - 3s 14ms/step - loss: 0.0498 - accuracy: 0.9977 - val_loss: 0.0464 - val_accuracy: 1.0000\n",
      "Epoch 47/52\n",
      "200/200 [==============================] - 3s 13ms/step - loss: 0.0483 - accuracy: 0.9986 - val_loss: 0.0437 - val_accuracy: 1.0000\n",
      "Epoch 48/52\n",
      "200/200 [==============================] - 3s 14ms/step - loss: 0.0485 - accuracy: 0.9986 - val_loss: 0.0351 - val_accuracy: 1.0000\n",
      "Epoch 49/52\n",
      "200/200 [==============================] - 3s 13ms/step - loss: 0.0717 - accuracy: 0.9969 - val_loss: 0.0491 - val_accuracy: 1.0000\n",
      "Epoch 50/52\n",
      "200/200 [==============================] - 3s 13ms/step - loss: 0.0443 - accuracy: 0.9994 - val_loss: 0.0500 - val_accuracy: 0.9931\n",
      "\n",
      "Epoch 00050: ReduceLROnPlateau reducing learning rate to 0.0005000000237487257.\n",
      "Epoch 51/52\n",
      "200/200 [==============================] - 3s 14ms/step - loss: 0.0403 - accuracy: 0.9995 - val_loss: 0.0344 - val_accuracy: 1.0000\n",
      "Epoch 52/52\n",
      "200/200 [==============================] - 3s 14ms/step - loss: 0.0383 - accuracy: 0.9984 - val_loss: 0.0354 - val_accuracy: 1.0000\n"
     ]
    }
   ],
   "source": [
    "history = model.fit(x_train, y_train, epochs=52, batch_size=32,validation_split=0.2,callbacks=[early_stop, reduce_lr],verbose=1)\n"
   ]
  },
  {
   "cell_type": "code",
   "execution_count": 11,
   "metadata": {
    "colab": {
     "base_uri": "https://localhost:8080/"
    },
    "executionInfo": {
     "elapsed": 380,
     "status": "ok",
     "timestamp": 1750585935605,
     "user": {
      "displayName": "PAWAR SAKSHI RAJENDRA",
      "userId": "08663417119460558839"
     },
     "user_tz": -330
    },
    "id": "g0flvcUgFjUn",
    "outputId": "950d1528-9b04-4f74-8683-8be980586b4f"
   },
   "outputs": [
    {
     "name": "stdout",
     "output_type": "stream",
     "text": [
      "63/63 [==============================] - 0s 5ms/step - loss: 0.0354 - accuracy: 1.0000\n",
      "Test Accuracy: 1.0000\n"
     ]
    }
   ],
   "source": [
    "# Evaluate the model\n",
    "loss, accuracy = model.evaluate(x_test, y_test)\n",
    "print(f\"Test Accuracy: {accuracy:.4f}\")\n"
   ]
  },
  {
   "cell_type": "code",
   "execution_count": 12,
   "metadata": {
    "colab": {
     "base_uri": "https://localhost:8080/"
    },
    "executionInfo": {
     "elapsed": 362,
     "status": "ok",
     "timestamp": 1750585935971,
     "user": {
      "displayName": "PAWAR SAKSHI RAJENDRA",
      "userId": "08663417119460558839"
     },
     "user_tz": -330
    },
    "id": "95PJRIXDsq7E",
    "outputId": "8588f8d9-8501-4533-d34e-d0e45bd41fb9"
   },
   "outputs": [
    {
     "name": "stdout",
     "output_type": "stream",
     "text": [
      "Accuracy: 1.0\n",
      "              precision    recall  f1-score   support\n",
      "\n",
      "           0       1.00      1.00      1.00      1250\n",
      "           1       1.00      1.00      1.00       750\n",
      "\n",
      "    accuracy                           1.00      2000\n",
      "   macro avg       1.00      1.00      1.00      2000\n",
      "weighted avg       1.00      1.00      1.00      2000\n",
      "\n"
     ]
    }
   ],
   "source": [
    "y_pred = model.predict(x_test)\n",
    "y_pred_labels = (y_pred > 0.5).astype(int)\n",
    "\n",
    "print(\"Accuracy:\", accuracy_score(y_test, y_pred_labels))\n",
    "print(classification_report(y_test, y_pred_labels))"
   ]
  },
  {
   "cell_type": "code",
   "execution_count": 13,
   "metadata": {
    "executionInfo": {
     "elapsed": 7,
     "status": "ok",
     "timestamp": 1750585935981,
     "user": {
      "displayName": "PAWAR SAKSHI RAJENDRA",
      "userId": "08663417119460558839"
     },
     "user_tz": -330
    },
    "id": "9IWEHNeVScoR"
   },
   "outputs": [],
   "source": [
    "loss = history.history['loss']\n",
    "val_loss = history.history['val_loss']\n",
    "accuracy = history.history.get('accuracy', history.history.get('acc'))  # Some versions use 'acc'\n",
    "val_accuracy = history.history.get('val_accuracy', history.history.get('val_acc'))\n",
    "\n",
    "epochs = range(1, len(loss) + 1)\n"
   ]
  },
  {
   "cell_type": "code",
   "execution_count": 14,
   "metadata": {
    "colab": {
     "base_uri": "https://localhost:8080/",
     "height": 0
    },
    "executionInfo": {
     "elapsed": 362,
     "status": "ok",
     "timestamp": 1750585936347,
     "user": {
      "displayName": "PAWAR SAKSHI RAJENDRA",
      "userId": "08663417119460558839"
     },
     "user_tz": -330
    },
    "id": "4NEIWGV_Fyt6",
    "outputId": "db2f93a7-952b-466f-d762-b85175069cbd"
   },
   "outputs": [
    {
     "data": {
      "text/plain": [
       "<matplotlib.legend.Legend at 0x254741bb9b0>"
      ]
     },
     "execution_count": 14,
     "metadata": {},
     "output_type": "execute_result"
    },
    {
     "data": {
      "image/png": "[encoded data removed]",
      "text/plain": [
       "<Figure size 1080x360 with 1 Axes>"
      ]
     },
     "metadata": {
      "needs_background": "light"
     },
     "output_type": "display_data"
    }
   ],
   "source": [
    "plt.figure(figsize=(15, 5))\n",
    "plt.subplot(1, 2, 1)\n",
    "plt.plot(epochs, loss, 'bo-', label='Training Loss')\n",
    "plt.plot(epochs, val_loss, 'r*-', label='Validation Loss')\n",
    "plt.xlabel('Epochs')\n",
    "plt.ylabel('Loss')\n",
    "plt.title('Model Loss Over Epochs')\n",
    "plt.legend()"
   ]
  },
  {
   "cell_type": "code",
   "execution_count": 15,
   "metadata": {
    "colab": {
     "base_uri": "https://localhost:8080/",
     "height": 407
    },
    "executionInfo": {
     "elapsed": 203,
     "status": "ok",
     "timestamp": 1750585936553,
     "user": {
      "displayName": "PAWAR SAKSHI RAJENDRA",
      "userId": "08663417119460558839"
     },
     "user_tz": -330
    },
    "id": "qGHilJRCSnec",
    "outputId": "f2cb698e-bf31-4182-907c-3c75b450a99b"
   },
   "outputs": [
    {
     "data": {
      "image/png": "[encoded data removed]",
      "text/plain": [
       "<Figure size 864x288 with 1 Axes>"
      ]
     },
     "metadata": {
      "needs_background": "light"
     },
     "output_type": "display_data"
    }
   ],
   "source": [
    "plt.figure(figsize=(12, 4))\n",
    "plt.subplot(1, 2, 2)\n",
    "plt.plot(epochs, accuracy, 'bo-', label='Training Accuracy')\n",
    "plt.plot(epochs, val_accuracy, 'r*-', label='Validation Accuracy')\n",
    "plt.xlabel('Epochs')\n",
    "plt.ylabel('Accuracy')\n",
    "plt.title('Model Accuracy Over Epochs')\n",
    "plt.legend()\n",
    "\n",
    "plt.tight_layout()\n",
    "plt.show()\n"
   ]
  },
  {
   "cell_type": "code",
   "execution_count": 16,
   "metadata": {
    "colab": {
     "base_uri": "https://localhost:8080/"
    },
    "executionInfo": {
     "elapsed": 272,
     "status": "ok",
     "timestamp": 1750585936823,
     "user": {
      "displayName": "PAWAR SAKSHI RAJENDRA",
      "userId": "08663417119460558839"
     },
     "user_tz": -330
    },
    "id": "MEcYButBSpN5",
    "outputId": "fe0358d2-0c1f-4cce-b29b-cc87e5673ae0"
   },
   "outputs": [
    {
     "name": "stdout",
     "output_type": "stream",
     "text": [
      "WARNING:tensorflow:From d:\\Python\\lib\\site-packages\\tensorflow\\python\\ops\\math_ops.py:3777: tensor_shape_from_node_def_name (from tensorflow.python.framework.graph_util_impl) is deprecated and will be removed in a future version.\n",
      "Instructions for updating:\n",
      "Use `tf.compat.v1.graph_util.tensor_shape_from_node_def_name`\n"
     ]
    },
    {
     "data": {
      "text/plain": [
       "{'total_parameters': 191937,\n",
       " 'FLOPs': 380849,\n",
       " 'GFLOPs': 0.000380849,\n",
       " 'model_size_bytes': 2419480,\n",
       " 'model_size_MB': 2.3073959350585938,\n",
       " 'inference_time_seconds': 0.1652355194091797,\n",
       " 'accuracy': 1.0}"
      ]
     },
     "execution_count": 16,
     "metadata": {},
     "output_type": "execute_result"
    }
   ],
   "source": [
    "import tensorflow as tf\n",
    "import os\n",
    "import time\n",
    "from tensorflow.python.framework.convert_to_constants import convert_variables_to_constants_v2\n",
    "from tensorflow.python.profiler import model_analyzer\n",
    "from tensorflow.python.profiler.option_builder import ProfileOptionBuilder\n",
    "\n",
    "def evaluate_model_metrics(model, x_test, y_test, model_name=\"model_metrics\"):\n",
    "    results = {}\n",
    "\n",
    "    # Total Parameters\n",
    "    results['total_parameters'] = model.count_params()\n",
    "\n",
    "    # FLOPs Calculation\n",
    "    func = tf.function(lambda x: model(x))\n",
    "    concrete_func = func.get_concrete_function(\n",
    "        tf.TensorSpec([1] + list(model.input_shape[1:]), model.inputs[0].dtype)\n",
    "    )\n",
    "    frozen_func = convert_variables_to_constants_v2(concrete_func)\n",
    "    flops = model_analyzer.profile(\n",
    "        graph=frozen_func.graph,\n",
    "        options=ProfileOptionBuilder.float_operation()\n",
    "    ).total_float_ops\n",
    "    results['FLOPs'] = flops\n",
    "    results['GFLOPs'] = flops / 1e9\n",
    "\n",
    "    # Model Size\n",
    "    model_path = f\"{model_name}.h5\"\n",
    "    model.save(model_path)\n",
    "    size_bytes = os.path.getsize(model_path)\n",
    "    results['model_size_bytes'] = size_bytes\n",
    "    results['model_size_MB'] = size_bytes / (1024 * 1024)\n",
    "\n",
    "    # Inference Time\n",
    "    start = time.time()\n",
    "    model.predict(x_test)\n",
    "    end = time.time()\n",
    "    results['inference_time_seconds'] = end - start\n",
    "\n",
    "    # Accuracy\n",
    "    loss, acc = model.evaluate(x_test, y_test, verbose=0)\n",
    "    results['accuracy'] = acc\n",
    "\n",
    "    return results\n",
    "\n",
    "evaluate_model_metrics(model, x_test, y_test, model_name=\"model_metrics\")"
   ]
  },
  {
   "cell_type": "code",
   "execution_count": null,
   "metadata": {
    "executionInfo": {
     "elapsed": 7,
     "status": "ok",
     "timestamp": 1750585936836,
     "user": {
      "displayName": "PAWAR SAKSHI RAJENDRA",
      "userId": "08663417119460558839"
     },
     "user_tz": -330
    },
    "id": "tYjnVn_V2JQv"
   },
   "outputs": [],
   "source": []
  }
 ],
 "metadata": {
  "accelerator": "TPU",
  "colab": {
   "gpuType": "V28",
   "provenance": []
  },
  "kernelspec": {
   "display_name": "Python 3",
   "name": "python3"
  },
  "language_info": {
   "codemirror_mode": {
    "name": "ipython",
    "version": 3
   },
   "file_extension": ".py",
   "mimetype": "text/x-python",
   "name": "python",
   "nbconvert_exporter": "python",
   "pygments_lexer": "ipython3",
   "version": "3.6.2"
  }
 },
 "nbformat": 4,
 "nbformat_minor": 0
}
