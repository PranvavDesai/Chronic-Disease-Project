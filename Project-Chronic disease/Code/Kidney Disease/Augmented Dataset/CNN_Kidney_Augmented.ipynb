{
 "cells": [
  {
   "cell_type": "code",
   "execution_count": 8,
   "metadata": {
    "colab": {
     "base_uri": "https://localhost:8080/"
    },
    "executionInfo": {
     "elapsed": 2251,
     "status": "ok",
     "timestamp": 1750585713366,
     "user": {
      "displayName": "PAWAR SAKSHI RAJENDRA",
      "userId": "08663417119460558839"
     },
     "user_tz": -330
    },
    "id": "VcTDbZdrAitL",
    "outputId": "8e125753-0c32-4bf1-f15e-0c974f05a26c"
   },
   "outputs": [
    {
     "name": "stdout",
     "output_type": "stream",
     "text": [
      "Requirement already satisfied: tensorflow in d:\\python\\lib\\site-packages (2.6.2)\n",
      "Requirement already satisfied: opt-einsum~=3.3.0 in d:\\python\\lib\\site-packages (from tensorflow) (3.3.0)\n",
      "Requirement already satisfied: protobuf>=3.9.2 in d:\\python\\lib\\site-packages (from tensorflow) (3.19.6)\n",
      "Requirement already satisfied: h5py~=3.1.0 in d:\\python\\lib\\site-packages (from tensorflow) (3.1.0)\n",
      "Requirement already satisfied: keras-preprocessing~=1.1.2 in d:\\python\\lib\\site-packages (from tensorflow) (1.1.2)\n",
      "Requirement already satisfied: termcolor~=1.1.0 in d:\\python\\lib\\site-packages (from tensorflow) (1.1.0)\n",
      "Requirement already satisfied: typing-extensions~=3.7.4 in d:\\python\\lib\\site-packages (from tensorflow) (3.7.4.3)\n",
      "Requirement already satisfied: wrapt~=1.12.1 in d:\\python\\lib\\site-packages (from tensorflow) (1.12.1)\n",
      "Requirement already satisfied: grpcio<2.0,>=1.37.0 in d:\\python\\lib\\site-packages (from tensorflow) (1.48.2)\n",
      "Requirement already satisfied: flatbuffers~=1.12.0 in d:\\python\\lib\\site-packages (from tensorflow) (1.12)\n",
      "Requirement already satisfied: absl-py~=0.10 in d:\\python\\lib\\site-packages (from tensorflow) (0.15.0)\n",
      "Requirement already satisfied: six~=1.15.0 in d:\\python\\lib\\site-packages (from tensorflow) (1.15.0)\n",
      "Requirement already satisfied: gast==0.4.0 in d:\\python\\lib\\site-packages (from tensorflow) (0.4.0)\n",
      "Requirement already satisfied: keras<2.7,>=2.6.0 in d:\\python\\lib\\site-packages (from tensorflow) (2.6.0)\n",
      "Requirement already satisfied: tensorboard<2.7,>=2.6.0 in d:\\python\\lib\\site-packages (from tensorflow) (2.6.0)\n",
      "Note: you may need to restart the kernel to use updated packages.\n",
      "Requirement already satisfied: google-pasta~=0.2 in d:\\python\\lib\\site-packages (from tensorflow) (0.2.0)\n",
      "Requirement already satisfied: astunparse~=1.6.3 in d:\\python\\lib\\site-packages (from tensorflow) (1.6.3)\n",
      "Requirement already satisfied: clang~=5.0 in d:\\python\\lib\\site-packages (from tensorflow) (5.0)\n",
      "Requirement already satisfied: numpy~=1.19.2 in d:\\python\\lib\\site-packages (from tensorflow) (1.19.5)\n",
      "Requirement already satisfied: wheel~=0.35 in d:\\python\\lib\\site-packages (from tensorflow) (0.37.1)\n",
      "Requirement already satisfied: tensorflow-estimator<2.7,>=2.6.0 in d:\\python\\lib\\site-packages (from tensorflow) (2.6.0)\n",
      "Requirement already satisfied: cached-property in d:\\python\\lib\\site-packages (from h5py~=3.1.0->tensorflow) (1.5.2)\n",
      "Requirement already satisfied: requests<3,>=2.21.0 in d:\\python\\lib\\site-packages (from tensorboard<2.7,>=2.6.0->tensorflow) (2.27.1)\n",
      "Requirement already satisfied: setuptools>=41.0.0 in d:\\python\\lib\\site-packages (from tensorboard<2.7,>=2.6.0->tensorflow) (59.6.0)\n",
      "Requirement already satisfied: markdown>=2.6.8 in d:\\python\\lib\\site-packages (from tensorboard<2.7,>=2.6.0->tensorflow) (3.3.7)\n",
      "Requirement already satisfied: werkzeug>=0.11.15 in d:\\python\\lib\\site-packages (from tensorboard<2.7,>=2.6.0->tensorflow) (2.0.3)\n",
      "Requirement already satisfied: google-auth<2,>=1.6.3 in d:\\python\\lib\\site-packages (from tensorboard<2.7,>=2.6.0->tensorflow) (1.35.0)\n",
      "Requirement already satisfied: tensorboard-plugin-wit>=1.6.0 in d:\\python\\lib\\site-packages (from tensorboard<2.7,>=2.6.0->tensorflow) (1.8.1)\n",
      "Requirement already satisfied: tensorboard-data-server<0.7.0,>=0.6.0 in d:\\python\\lib\\site-packages (from tensorboard<2.7,>=2.6.0->tensorflow) (0.6.1)\n",
      "Requirement already satisfied: google-auth-oauthlib<0.5,>=0.4.1 in d:\\python\\lib\\site-packages (from tensorboard<2.7,>=2.6.0->tensorflow) (0.4.6)\n",
      "Requirement already satisfied: rsa<5,>=3.1.4 in d:\\python\\lib\\site-packages (from google-auth<2,>=1.6.3->tensorboard<2.7,>=2.6.0->tensorflow) (4.9)\n",
      "Requirement already satisfied: cachetools<5.0,>=2.0.0 in d:\\python\\lib\\site-packages (from google-auth<2,>=1.6.3->tensorboard<2.7,>=2.6.0->tensorflow) (4.2.4)\n",
      "Requirement already satisfied: pyasn1-modules>=0.2.1 in d:\\python\\lib\\site-packages (from google-auth<2,>=1.6.3->tensorboard<2.7,>=2.6.0->tensorflow) (0.2.8)\n",
      "Requirement already satisfied: requests-oauthlib>=0.7.0 in d:\\python\\lib\\site-packages (from google-auth-oauthlib<0.5,>=0.4.1->tensorboard<2.7,>=2.6.0->tensorflow) (1.3.1)\n",
      "Requirement already satisfied: importlib-metadata>=4.4 in d:\\python\\lib\\site-packages (from markdown>=2.6.8->tensorboard<2.7,>=2.6.0->tensorflow) (4.8.3)\n",
      "Requirement already satisfied: charset-normalizer~=2.0.0 in d:\\python\\lib\\site-packages (from requests<3,>=2.21.0->tensorboard<2.7,>=2.6.0->tensorflow) (2.0.12)\n",
      "Requirement already satisfied: certifi>=2017.4.17 in d:\\python\\lib\\site-packages (from requests<3,>=2.21.0->tensorboard<2.7,>=2.6.0->tensorflow) (2022.6.15)\n",
      "Requirement already satisfied: idna<4,>=2.5 in d:\\python\\lib\\site-packages (from requests<3,>=2.21.0->tensorboard<2.7,>=2.6.0->tensorflow) (3.3)\n",
      "Requirement already satisfied: urllib3<1.27,>=1.21.1 in d:\\python\\lib\\site-packages (from requests<3,>=2.21.0->tensorboard<2.7,>=2.6.0->tensorflow) (1.26.10)\n",
      "Requirement already satisfied: dataclasses in d:\\python\\lib\\site-packages (from werkzeug>=0.11.15->tensorboard<2.7,>=2.6.0->tensorflow) (0.8)\n",
      "Requirement already satisfied: zipp>=0.5 in d:\\python\\lib\\site-packages (from importlib-metadata>=4.4->markdown>=2.6.8->tensorboard<2.7,>=2.6.0->tensorflow) (3.6.0)\n",
      "Requirement already satisfied: pyasn1<0.5.0,>=0.4.6 in d:\\python\\lib\\site-packages (from pyasn1-modules>=0.2.1->google-auth<2,>=1.6.3->tensorboard<2.7,>=2.6.0->tensorflow) (0.4.8)\n",
      "Requirement already satisfied: oauthlib>=3.0.0 in d:\\python\\lib\\site-packages (from requests-oauthlib>=0.7.0->google-auth-oauthlib<0.5,>=0.4.1->tensorboard<2.7,>=2.6.0->tensorflow) (3.2.2)\n"
     ]
    }
   ],
   "source": [
    "pip install --upgrade tensorflow"
   ]
  },
  {
   "cell_type": "code",
   "execution_count": 9,
   "metadata": {
    "executionInfo": {
     "elapsed": 2,
     "status": "ok",
     "timestamp": 1750585713372,
     "user": {
      "displayName": "PAWAR SAKSHI RAJENDRA",
      "userId": "08663417119460558839"
     },
     "user_tz": -330
    },
    "id": "Tbsq7LIbyKRS"
   },
   "outputs": [],
   "source": [
    "import pandas as pd\n",
    "import numpy as np\n",
    "from sklearn.model_selection import train_test_split\n",
    "from sklearn.preprocessing import StandardScaler\n",
    "from sklearn.metrics import classification_report, accuracy_score\n",
    "import tensorflow as tf\n",
    "import matplotlib.pyplot as plt\n",
    "from tensorflow.keras.models import Sequential\n",
    "from tensorflow.keras.layers import Conv1D, MaxPooling1D, GlobalAveragePooling1D, Flatten\n",
    "from tensorflow.keras.layers import Dense, Dropout, BatchNormalization, Input\n",
    "from tensorflow.keras.callbacks import EarlyStopping, ModelCheckpoint\n"
   ]
  },
  {
   "cell_type": "code",
   "execution_count": 10,
   "metadata": {
    "colab": {
     "base_uri": "https://localhost:8080/"
    },
    "executionInfo": {
     "elapsed": 1865,
     "status": "ok",
     "timestamp": 1750585715245,
     "user": {
      "displayName": "PAWAR SAKSHI RAJENDRA",
      "userId": "08663417119460558839"
     },
     "user_tz": -330
    },
    "id": "qCHvFaIZyVaV",
    "outputId": "734bb01a-0c29-4c5e-8ba8-ea361eefb7f3"
   },
   "outputs": [],
   "source": [
    "\n",
    "df = pd.read_csv(r'C:\\Users\\Pranav Desai\\Desktop\\Chronic Disease\\Augmented kidney_dataset.csv')"
   ]
  },
  {
   "cell_type": "code",
   "execution_count": 11,
   "metadata": {
    "executionInfo": {
     "elapsed": 5,
     "status": "ok",
     "timestamp": 1750585715253,
     "user": {
      "displayName": "PAWAR SAKSHI RAJENDRA",
      "userId": "08663417119460558839"
     },
     "user_tz": -330
    },
    "id": "D4tvNxukyvE3"
   },
   "outputs": [],
   "source": [
    "x = df.drop(\"classification\", axis=1).values\n",
    "y = df[\"classification\"].values"
   ]
  },
  {
   "cell_type": "code",
   "execution_count": 12,
   "metadata": {
    "executionInfo": {
     "elapsed": 12,
     "status": "ok",
     "timestamp": 1750585715269,
     "user": {
      "displayName": "PAWAR SAKSHI RAJENDRA",
      "userId": "08663417119460558839"
     },
     "user_tz": -330
    },
    "id": "eekn3Rf8y_6S"
   },
   "outputs": [],
   "source": [
    "scaler = StandardScaler()\n",
    "x_scaled = scaler.fit_transform(x)\n"
   ]
  },
  {
   "cell_type": "code",
   "execution_count": 13,
   "metadata": {
    "executionInfo": {
     "elapsed": 1,
     "status": "ok",
     "timestamp": 1750585715272,
     "user": {
      "displayName": "PAWAR SAKSHI RAJENDRA",
      "userId": "08663417119460558839"
     },
     "user_tz": -330
    },
    "id": "Uw3pXtoh-4OW"
   },
   "outputs": [],
   "source": [
    "x_scaled = x_scaled.reshape((x_scaled.shape[0], x_scaled.shape[1], 1))"
   ]
  },
  {
   "cell_type": "code",
   "execution_count": 14,
   "metadata": {
    "colab": {
     "base_uri": "https://localhost:8080/"
    },
    "executionInfo": {
     "elapsed": 10,
     "status": "ok",
     "timestamp": 1750585715283,
     "user": {
      "displayName": "PAWAR SAKSHI RAJENDRA",
      "userId": "08663417119460558839"
     },
     "user_tz": -330
    },
    "id": "PEAUOG_q_DUI",
    "outputId": "505ded76-4087-4bd9-97c1-5cb29e093b64"
   },
   "outputs": [
    {
     "data": {
      "text/plain": [
       "24"
      ]
     },
     "execution_count": 14,
     "metadata": {},
     "output_type": "execute_result"
    }
   ],
   "source": [
    "x.shape[1]"
   ]
  },
  {
   "cell_type": "code",
   "execution_count": 15,
   "metadata": {
    "executionInfo": {
     "elapsed": 1,
     "status": "ok",
     "timestamp": 1750585715285,
     "user": {
      "displayName": "PAWAR SAKSHI RAJENDRA",
      "userId": "08663417119460558839"
     },
     "user_tz": -330
    },
    "id": "YgKJx5ik_fpv"
   },
   "outputs": [],
   "source": [
    "x_train, x_test, y_train, y_test = train_test_split(x_scaled, y, test_size=0.2, random_state=42, stratify=y)\n"
   ]
  },
  {
   "cell_type": "code",
   "execution_count": 16,
   "metadata": {
    "executionInfo": {
     "elapsed": 103,
     "status": "ok",
     "timestamp": 1750585715402,
     "user": {
      "displayName": "PAWAR SAKSHI RAJENDRA",
      "userId": "08663417119460558839"
     },
     "user_tz": -330
    },
    "id": "Ql6tJvxT_5vm"
   },
   "outputs": [],
   "source": [
    "# CNN Model\n",
    "model = Sequential([\n",
    "    Input(shape=(x_train.shape[1], 1)),\n",
    "\n",
    "    Conv1D(filters=64, kernel_size=3, activation='relu', padding='same'),\n",
    "    BatchNormalization(),\n",
    "    MaxPooling1D(pool_size=2),\n",
    "    Dropout(0.3),\n",
    "\n",
    "    Conv1D(filters=128, kernel_size=3, activation='relu', padding='same'),\n",
    "    BatchNormalization(),\n",
    "    MaxPooling1D(pool_size=2),\n",
    "    Dropout(0.3),\n",
    "\n",
    "    Conv1D(filters=256, kernel_size=3, activation='relu', padding='same'),\n",
    "    BatchNormalization(),\n",
    "    GlobalAveragePooling1D(),\n",
    "    Dropout(0.4),\n",
    "\n",
    "    Dense(128, activation='relu'),\n",
    "    Dropout(0.3),\n",
    "    Dense(1, activation='sigmoid')  # Binary classification\n",
    "])\n"
   ]
  },
  {
   "cell_type": "code",
   "execution_count": 17,
   "metadata": {
    "executionInfo": {
     "elapsed": 45,
     "status": "ok",
     "timestamp": 1750585715460,
     "user": {
      "displayName": "PAWAR SAKSHI RAJENDRA",
      "userId": "08663417119460558839"
     },
     "user_tz": -330
    },
    "id": "zyaChbgoqFKm"
   },
   "outputs": [],
   "source": [
    "model.compile(optimizer='adam', loss='binary_crossentropy', metrics=['accuracy'])\n"
   ]
  },
  {
   "cell_type": "code",
   "execution_count": 18,
   "metadata": {
    "executionInfo": {
     "elapsed": 2,
     "status": "ok",
     "timestamp": 1750585715469,
     "user": {
      "displayName": "PAWAR SAKSHI RAJENDRA",
      "userId": "08663417119460558839"
     },
     "user_tz": -330
    },
    "id": "7lqExWB7qGLX"
   },
   "outputs": [],
   "source": [
    "early_stop = EarlyStopping(monitor='val_loss', patience=10, restore_best_weights=True)\n",
    "checkpoint = ModelCheckpoint('best_heart_model.h5', save_best_only=True)\n"
   ]
  },
  {
   "cell_type": "code",
   "execution_count": 19,
   "metadata": {
    "colab": {
     "base_uri": "https://localhost:8080/"
    },
    "executionInfo": {
     "elapsed": 19703,
     "status": "ok",
     "timestamp": 1750585735175,
     "user": {
      "displayName": "PAWAR SAKSHI RAJENDRA",
      "userId": "08663417119460558839"
     },
     "user_tz": -330
    },
    "id": "FLZCWekb_8q5",
    "outputId": "d81d0164-df37-46f1-d4d3-1e61ff8529c9"
   },
   "outputs": [
    {
     "name": "stdout",
     "output_type": "stream",
     "text": [
      "Epoch 1/100\n",
      "200/200 [==============================] - 7s 10ms/step - loss: 0.0943 - accuracy: 0.9650 - val_loss: 0.2314 - val_accuracy: 0.9281\n",
      "Epoch 2/100\n",
      "200/200 [==============================] - 2s 10ms/step - loss: 0.0202 - accuracy: 0.9919 - val_loss: 0.0176 - val_accuracy: 0.9950\n",
      "Epoch 3/100\n",
      "200/200 [==============================] - 2s 10ms/step - loss: 0.0110 - accuracy: 0.9962 - val_loss: 8.8903e-04 - val_accuracy: 1.0000\n",
      "Epoch 4/100\n",
      "200/200 [==============================] - 2s 10ms/step - loss: 0.0049 - accuracy: 0.9986 - val_loss: 3.1345e-04 - val_accuracy: 1.0000\n",
      "Epoch 5/100\n",
      "200/200 [==============================] - 2s 10ms/step - loss: 0.0066 - accuracy: 0.9980 - val_loss: 1.8310e-04 - val_accuracy: 1.0000\n",
      "Epoch 6/100\n",
      "200/200 [==============================] - 2s 10ms/step - loss: 0.0017 - accuracy: 0.9998 - val_loss: 2.1638e-05 - val_accuracy: 1.0000\n",
      "Epoch 7/100\n",
      "200/200 [==============================] - 2s 10ms/step - loss: 0.0036 - accuracy: 0.9991 - val_loss: 7.0093e-06 - val_accuracy: 1.0000\n",
      "Epoch 8/100\n",
      "200/200 [==============================] - 2s 10ms/step - loss: 0.0018 - accuracy: 0.9995 - val_loss: 6.6206e-06 - val_accuracy: 1.0000\n",
      "Epoch 9/100\n",
      "200/200 [==============================] - 2s 10ms/step - loss: 0.0035 - accuracy: 0.9991 - val_loss: 3.1058e-05 - val_accuracy: 1.0000\n",
      "Epoch 10/100\n",
      "200/200 [==============================] - 2s 10ms/step - loss: 0.0065 - accuracy: 0.9981 - val_loss: 1.7915e-04 - val_accuracy: 1.0000\n",
      "Epoch 11/100\n",
      "200/200 [==============================] - 2s 9ms/step - loss: 0.0030 - accuracy: 0.9991 - val_loss: 4.5341e-05 - val_accuracy: 1.0000\n",
      "Epoch 12/100\n",
      "200/200 [==============================] - 2s 10ms/step - loss: 0.0065 - accuracy: 0.9981 - val_loss: 1.4426e-05 - val_accuracy: 1.0000\n",
      "Epoch 13/100\n",
      "200/200 [==============================] - 2s 10ms/step - loss: 9.7103e-04 - accuracy: 0.9997 - val_loss: 4.5011e-06 - val_accuracy: 1.0000\n",
      "Epoch 14/100\n",
      "200/200 [==============================] - 2s 10ms/step - loss: 4.8735e-04 - accuracy: 0.9998 - val_loss: 1.6266e-06 - val_accuracy: 1.0000\n",
      "Epoch 15/100\n",
      "200/200 [==============================] - 2s 10ms/step - loss: 2.4351e-04 - accuracy: 1.0000 - val_loss: 4.3403e-07 - val_accuracy: 1.0000\n",
      "Epoch 16/100\n",
      "200/200 [==============================] - 2s 10ms/step - loss: 2.6650e-04 - accuracy: 0.9998 - val_loss: 3.7678e-07 - val_accuracy: 1.0000\n",
      "Epoch 17/100\n",
      "200/200 [==============================] - 2s 10ms/step - loss: 0.0049 - accuracy: 0.9986 - val_loss: 1.0535e-05 - val_accuracy: 1.0000\n",
      "Epoch 18/100\n",
      "200/200 [==============================] - 2s 10ms/step - loss: 9.8767e-04 - accuracy: 0.9998 - val_loss: 2.5042e-06 - val_accuracy: 1.0000\n",
      "Epoch 19/100\n",
      "200/200 [==============================] - 2s 10ms/step - loss: 0.0028 - accuracy: 0.9989 - val_loss: 5.5925e-07 - val_accuracy: 1.0000\n",
      "Epoch 20/100\n",
      "200/200 [==============================] - 2s 10ms/step - loss: 0.0012 - accuracy: 0.9995 - val_loss: 4.1940e-07 - val_accuracy: 1.0000\n",
      "Epoch 21/100\n",
      "200/200 [==============================] - 2s 10ms/step - loss: 6.1638e-04 - accuracy: 0.9997 - val_loss: 6.4463e-07 - val_accuracy: 1.0000\n",
      "Epoch 22/100\n",
      "200/200 [==============================] - 2s 10ms/step - loss: 2.6492e-04 - accuracy: 1.0000 - val_loss: 2.0031e-07 - val_accuracy: 1.0000\n",
      "Epoch 23/100\n",
      "200/200 [==============================] - 2s 10ms/step - loss: 4.7162e-04 - accuracy: 0.9998 - val_loss: 5.7106e-08 - val_accuracy: 1.0000\n",
      "Epoch 24/100\n",
      "200/200 [==============================] - 2s 10ms/step - loss: 8.3825e-04 - accuracy: 0.9997 - val_loss: 3.3401e-07 - val_accuracy: 1.0000\n",
      "Epoch 25/100\n",
      "200/200 [==============================] - 2s 10ms/step - loss: 0.0074 - accuracy: 0.9981 - val_loss: 1.9296e-06 - val_accuracy: 1.0000\n",
      "Epoch 26/100\n",
      "200/200 [==============================] - 2s 10ms/step - loss: 0.0021 - accuracy: 0.9994 - val_loss: 3.0866e-07 - val_accuracy: 1.0000\n",
      "Epoch 27/100\n",
      "200/200 [==============================] - 2s 10ms/step - loss: 6.5819e-04 - accuracy: 0.9998 - val_loss: 2.8862e-07 - val_accuracy: 1.0000\n",
      "Epoch 28/100\n",
      "200/200 [==============================] - 2s 10ms/step - loss: 5.0641e-04 - accuracy: 0.9997 - val_loss: 2.2960e-07 - val_accuracy: 1.0000\n",
      "Epoch 29/100\n",
      "200/200 [==============================] - 2s 10ms/step - loss: 7.2049e-04 - accuracy: 0.9997 - val_loss: 1.5373e-07 - val_accuracy: 1.0000\n",
      "Epoch 30/100\n",
      "200/200 [==============================] - 2s 10ms/step - loss: 9.2948e-04 - accuracy: 0.9997 - val_loss: 1.2106e-07 - val_accuracy: 1.0000\n",
      "Epoch 31/100\n",
      "200/200 [==============================] - 2s 10ms/step - loss: 0.0015 - accuracy: 0.9995 - val_loss: 3.3548e-06 - val_accuracy: 1.0000\n",
      "Epoch 32/100\n",
      "200/200 [==============================] - 2s 10ms/step - loss: 0.0012 - accuracy: 0.9995 - val_loss: 2.6058e-07 - val_accuracy: 1.0000\n",
      "Epoch 33/100\n",
      "200/200 [==============================] - 2s 10ms/step - loss: 2.5822e-04 - accuracy: 1.0000 - val_loss: 1.2183e-07 - val_accuracy: 1.0000\n"
     ]
    }
   ],
   "source": [
    "history = model.fit(x_train, y_train, epochs=100, batch_size=32, validation_split=0.2,callbacks=[early_stop, checkpoint], verbose=1)"
   ]
  },
  {
   "cell_type": "code",
   "execution_count": 20,
   "metadata": {
    "colab": {
     "base_uri": "https://localhost:8080/"
    },
    "executionInfo": {
     "elapsed": 346,
     "status": "ok",
     "timestamp": 1750585735525,
     "user": {
      "displayName": "PAWAR SAKSHI RAJENDRA",
      "userId": "08663417119460558839"
     },
     "user_tz": -330
    },
    "id": "ARotfjyvABfU",
    "outputId": "4979859b-89fd-4330-fe71-f57d75ba188d"
   },
   "outputs": [
    {
     "name": "stdout",
     "output_type": "stream",
     "text": [
      "Accuracy: 1.0\n",
      "              precision    recall  f1-score   support\n",
      "\n",
      "           0       1.00      1.00      1.00      1250\n",
      "           1       1.00      1.00      1.00       750\n",
      "\n",
      "    accuracy                           1.00      2000\n",
      "   macro avg       1.00      1.00      1.00      2000\n",
      "weighted avg       1.00      1.00      1.00      2000\n",
      "\n"
     ]
    }
   ],
   "source": [
    "y_pred = model.predict(x_test)\n",
    "y_pred_labels = (y_pred > 0.5).astype(int)\n",
    "\n",
    "print(\"Accuracy:\", accuracy_score(y_test, y_pred_labels))\n",
    "print(classification_report(y_test, y_pred_labels))"
   ]
  },
  {
   "cell_type": "code",
   "execution_count": 21,
   "metadata": {
    "executionInfo": {
     "elapsed": 1,
     "status": "ok",
     "timestamp": 1750585735529,
     "user": {
      "displayName": "PAWAR SAKSHI RAJENDRA",
      "userId": "08663417119460558839"
     },
     "user_tz": -330
    },
    "id": "Mz-V6AGoALn-"
   },
   "outputs": [],
   "source": [
    "# Extract values from history\n",
    "loss = history.history['loss']\n",
    "val_loss = history.history['val_loss']\n",
    "accuracy = history.history.get('accuracy', history.history.get('acc'))  # Some versions use 'acc'\n",
    "val_accuracy = history.history.get('val_accuracy', history.history.get('val_acc'))\n",
    "\n",
    "epochs = range(1, len(loss) + 1)\n"
   ]
  },
  {
   "cell_type": "code",
   "execution_count": 22,
   "metadata": {
    "colab": {
     "base_uri": "https://localhost:8080/",
     "height": 504
    },
    "executionInfo": {
     "elapsed": 321,
     "status": "ok",
     "timestamp": 1750585735862,
     "user": {
      "displayName": "PAWAR SAKSHI RAJENDRA",
      "userId": "08663417119460558839"
     },
     "user_tz": -330
    },
    "id": "MiI_8rkYVzsW",
    "outputId": "97bbed05-322e-4f17-9e78-abd0e48f3ed4"
   },
   "outputs": [
    {
     "data": {
      "text/plain": [
       "<matplotlib.legend.Legend at 0x2a981fd4c88>"
      ]
     },
     "execution_count": 22,
     "metadata": {},
     "output_type": "execute_result"
    },
    {
     "data": {
      "image/png": "[encoded data removed]",
      "text/plain": [
       "<Figure size 864x360 with 1 Axes>"
      ]
     },
     "metadata": {
      "needs_background": "light"
     },
     "output_type": "display_data"
    }
   ],
   "source": [
    "# Plot Loss\n",
    "plt.figure(figsize=(12, 5))\n",
    "plt.subplot(1, 2, 1)\n",
    "plt.plot(epochs, loss, 'bo-', label='Training Loss')\n",
    "plt.plot(epochs, val_loss, 'r*-', label='Validation Loss')\n",
    "plt.xlabel('Epochs')\n",
    "plt.ylabel('Loss')\n",
    "plt.title('Model Loss Over Epochs')\n",
    "plt.legend()"
   ]
  },
  {
   "cell_type": "code",
   "execution_count": 23,
   "metadata": {
    "colab": {
     "base_uri": "https://localhost:8080/",
     "height": 407
    },
    "executionInfo": {
     "elapsed": 149,
     "status": "ok",
     "timestamp": 1750585736013,
     "user": {
      "displayName": "PAWAR SAKSHI RAJENDRA",
      "userId": "08663417119460558839"
     },
     "user_tz": -330
    },
    "id": "FAhFLAdzV7nz",
    "outputId": "48258b08-df82-46a0-db12-7fbe7ea61697"
   },
   "outputs": [
    {
     "data": {
      "image/png": "[encoded data removed]",
      "text/plain": [
       "<Figure size 864x288 with 1 Axes>"
      ]
     },
     "metadata": {
      "needs_background": "light"
     },
     "output_type": "display_data"
    }
   ],
   "source": [
    "plt.figure(figsize=(12, 4))\n",
    "plt.subplot(1, 2, 2)\n",
    "plt.plot(epochs, accuracy, 'bo-', label='Training Accuracy')\n",
    "plt.plot(epochs, val_accuracy, 'r*-', label='Validation Accuracy')\n",
    "plt.xlabel('Epochs')\n",
    "plt.ylabel('Accuracy')\n",
    "plt.title('Model Accuracy Over Epochs')\n",
    "plt.legend()\n",
    "\n",
    "plt.tight_layout()\n",
    "plt.show()"
   ]
  },
  {
   "cell_type": "code",
   "execution_count": 24,
   "metadata": {
    "colab": {
     "base_uri": "https://localhost:8080/"
    },
    "executionInfo": {
     "elapsed": 565,
     "status": "ok",
     "timestamp": 1750585736577,
     "user": {
      "displayName": "PAWAR SAKSHI RAJENDRA",
      "userId": "08663417119460558839"
     },
     "user_tz": -330
    },
    "id": "t3U7z0A6bx4J",
    "outputId": "6acd4068-ec02-4a92-b579-eeb89b49ae10"
   },
   "outputs": [
    {
     "name": "stdout",
     "output_type": "stream",
     "text": [
      "WARNING:tensorflow:From d:\\Python\\lib\\site-packages\\tensorflow\\python\\ops\\nn_ops.py:5063: tensor_shape_from_node_def_name (from tensorflow.python.framework.graph_util_impl) is deprecated and will be removed in a future version.\n",
      "Instructions for updating:\n",
      "Use `tf.compat.v1.graph_util.tensor_shape_from_node_def_name`\n"
     ]
    },
    {
     "data": {
      "text/plain": [
       "{'total_parameters': 158337,\n",
       " 'FLOPs': 1860673,\n",
       " 'GFLOPs': 0.001860673,\n",
       " 'model_size_bytes': 1976608,\n",
       " 'model_size_MB': 1.885040283203125,\n",
       " 'inference_time_seconds': 0.12915253639221191,\n",
       " 'accuracy': 1.0}"
      ]
     },
     "execution_count": 24,
     "metadata": {},
     "output_type": "execute_result"
    }
   ],
   "source": [
    "import tensorflow as tf\n",
    "import os\n",
    "import time\n",
    "from tensorflow.python.framework.convert_to_constants import convert_variables_to_constants_v2\n",
    "from tensorflow.python.profiler import model_analyzer\n",
    "from tensorflow.python.profiler.option_builder import ProfileOptionBuilder\n",
    "\n",
    "def evaluate_model_metrics(model, x_test, y_test, model_name=\"model_metrics\"):\n",
    "    results = {}\n",
    "\n",
    "    # Total Parameters\n",
    "    results['total_parameters'] = model.count_params()\n",
    "\n",
    "    # FLOPs Calculation\n",
    "    func = tf.function(lambda x: model(x))\n",
    "    concrete_func = func.get_concrete_function(\n",
    "        tf.TensorSpec([1] + list(model.input_shape[1:]), model.inputs[0].dtype)\n",
    "    )\n",
    "    frozen_func = convert_variables_to_constants_v2(concrete_func)\n",
    "    flops = model_analyzer.profile(\n",
    "        graph=frozen_func.graph,\n",
    "        options=ProfileOptionBuilder.float_operation()\n",
    "    ).total_float_ops\n",
    "    results['FLOPs'] = flops\n",
    "    results['GFLOPs'] = flops / 1e9\n",
    "\n",
    "    # Model Size\n",
    "    model_path = f\"{model_name}.h5\"\n",
    "    model.save(model_path)\n",
    "    size_bytes = os.path.getsize(model_path)\n",
    "    results['model_size_bytes'] = size_bytes\n",
    "    results['model_size_MB'] = size_bytes / (1024 * 1024)\n",
    "\n",
    "    # Inference Time\n",
    "    start = time.time()\n",
    "    model.predict(x_test)\n",
    "    end = time.time()\n",
    "    results['inference_time_seconds'] = end - start\n",
    "\n",
    "    # Accuracy\n",
    "    loss, acc = model.evaluate(x_test, y_test, verbose=0)\n",
    "    results['accuracy'] = acc\n",
    "\n",
    "    return results\n",
    "evaluate_model_metrics(model, x_test, y_test, model_name=\"model_metrics\")"
   ]
  },
  {
   "cell_type": "code",
   "execution_count": null,
   "metadata": {
    "executionInfo": {
     "elapsed": 2,
     "status": "ok",
     "timestamp": 1750585736581,
     "user": {
      "displayName": "PAWAR SAKSHI RAJENDRA",
      "userId": "08663417119460558839"
     },
     "user_tz": -330
    },
    "id": "e7VX9UArb40J"
   },
   "outputs": [],
   "source": []
  }
 ],
 "metadata": {
  "accelerator": "TPU",
  "colab": {
   "gpuType": "V28",
   "provenance": []
  },
  "kernelspec": {
   "display_name": "Python 3",
   "name": "python3"
  },
  "language_info": {
   "codemirror_mode": {
    "name": "ipython",
    "version": 3
   },
   "file_extension": ".py",
   "mimetype": "text/x-python",
   "name": "python",
   "nbconvert_exporter": "python",
   "pygments_lexer": "ipython3",
   "version": "3.6.2"
  }
 },
 "nbformat": 4,
 "nbformat_minor": 0
}
