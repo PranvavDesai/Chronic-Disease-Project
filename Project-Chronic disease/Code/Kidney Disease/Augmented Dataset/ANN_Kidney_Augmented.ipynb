{
 "cells": [
  {
   "cell_type": "code",
   "execution_count": 5,
   "metadata": {
    "colab": {
     "base_uri": "https://localhost:8080/"
    },
    "executionInfo": {
     "elapsed": 2316,
     "status": "ok",
     "timestamp": 1750585137980,
     "user": {
      "displayName": "PAWAR SAKSHI RAJENDRA",
      "userId": "08663417119460558839"
     },
     "user_tz": -330
    },
    "id": "jyzgTWadTMXK",
    "outputId": "2b386797-b0ef-4205-fe69-d83938237d15"
   },
   "outputs": [
    {
     "name": "stdout",
     "output_type": "stream",
     "text": [
      "Requirement already satisfied: tensorflow in d:\\python\\lib\\site-packages (2.6.2)\n",
      "Requirement already satisfied: h5py~=3.1.0 in d:\\python\\lib\\site-packages (from tensorflow) (3.1.0)\n",
      "Requirement already satisfied: absl-py~=0.10 in d:\\python\\lib\\site-packages (from tensorflow) (0.15.0)\n",
      "Requirement already satisfied: six~=1.15.0 in d:\\python\\lib\\site-packages (from tensorflow) (1.15.0)Note: you may need to restart the kernel to use updated packages.\n",
      "\n",
      "Requirement already satisfied: grpcio<2.0,>=1.37.0 in d:\\python\\lib\\site-packages (from tensorflow) (1.48.2)\n",
      "Requirement already satisfied: opt-einsum~=3.3.0 in d:\\python\\lib\\site-packages (from tensorflow) (3.3.0)\n",
      "Requirement already satisfied: keras-preprocessing~=1.1.2 in d:\\python\\lib\\site-packages (from tensorflow) (1.1.2)\n",
      "Requirement already satisfied: termcolor~=1.1.0 in d:\\python\\lib\\site-packages (from tensorflow) (1.1.0)\n",
      "Requirement already satisfied: clang~=5.0 in d:\\python\\lib\\site-packages (from tensorflow) (5.0)\n",
      "Requirement already satisfied: numpy~=1.19.2 in d:\\python\\lib\\site-packages (from tensorflow) (1.19.5)\n",
      "Requirement already satisfied: flatbuffers~=1.12.0 in d:\\python\\lib\\site-packages (from tensorflow) (1.12)\n",
      "Requirement already satisfied: astunparse~=1.6.3 in d:\\python\\lib\\site-packages (from tensorflow) (1.6.3)\n",
      "Requirement already satisfied: google-pasta~=0.2 in d:\\python\\lib\\site-packages (from tensorflow) (0.2.0)\n",
      "Requirement already satisfied: wheel~=0.35 in d:\\python\\lib\\site-packages (from tensorflow) (0.37.1)\n",
      "Requirement already satisfied: keras<2.7,>=2.6.0 in d:\\python\\lib\\site-packages (from tensorflow) (2.6.0)\n",
      "Requirement already satisfied: gast==0.4.0 in d:\\python\\lib\\site-packages (from tensorflow) (0.4.0)\n",
      "Requirement already satisfied: wrapt~=1.12.1 in d:\\python\\lib\\site-packages (from tensorflow) (1.12.1)\n",
      "Requirement already satisfied: protobuf>=3.9.2 in d:\\python\\lib\\site-packages (from tensorflow) (3.19.6)\n",
      "Requirement already satisfied: tensorflow-estimator<2.7,>=2.6.0 in d:\\python\\lib\\site-packages (from tensorflow) (2.6.0)\n",
      "Requirement already satisfied: typing-extensions~=3.7.4 in d:\\python\\lib\\site-packages (from tensorflow) (3.7.4.3)\n",
      "Requirement already satisfied: tensorboard<2.7,>=2.6.0 in d:\\python\\lib\\site-packages (from tensorflow) (2.6.0)\n",
      "Requirement already satisfied: cached-property in d:\\python\\lib\\site-packages (from h5py~=3.1.0->tensorflow) (1.5.2)\n",
      "Requirement already satisfied: werkzeug>=0.11.15 in d:\\python\\lib\\site-packages (from tensorboard<2.7,>=2.6.0->tensorflow) (2.0.3)\n",
      "Requirement already satisfied: requests<3,>=2.21.0 in d:\\python\\lib\\site-packages (from tensorboard<2.7,>=2.6.0->tensorflow) (2.27.1)\n",
      "Requirement already satisfied: tensorboard-data-server<0.7.0,>=0.6.0 in d:\\python\\lib\\site-packages (from tensorboard<2.7,>=2.6.0->tensorflow) (0.6.1)\n",
      "Requirement already satisfied: markdown>=2.6.8 in d:\\python\\lib\\site-packages (from tensorboard<2.7,>=2.6.0->tensorflow) (3.3.7)\n",
      "Requirement already satisfied: setuptools>=41.0.0 in d:\\python\\lib\\site-packages (from tensorboard<2.7,>=2.6.0->tensorflow) (59.6.0)\n",
      "Requirement already satisfied: tensorboard-plugin-wit>=1.6.0 in d:\\python\\lib\\site-packages (from tensorboard<2.7,>=2.6.0->tensorflow) (1.8.1)\n",
      "Requirement already satisfied: google-auth<2,>=1.6.3 in d:\\python\\lib\\site-packages (from tensorboard<2.7,>=2.6.0->tensorflow) (1.35.0)\n",
      "Requirement already satisfied: google-auth-oauthlib<0.5,>=0.4.1 in d:\\python\\lib\\site-packages (from tensorboard<2.7,>=2.6.0->tensorflow) (0.4.6)\n",
      "Requirement already satisfied: pyasn1-modules>=0.2.1 in d:\\python\\lib\\site-packages (from google-auth<2,>=1.6.3->tensorboard<2.7,>=2.6.0->tensorflow) (0.2.8)\n",
      "Requirement already satisfied: cachetools<5.0,>=2.0.0 in d:\\python\\lib\\site-packages (from google-auth<2,>=1.6.3->tensorboard<2.7,>=2.6.0->tensorflow) (4.2.4)\n",
      "Requirement already satisfied: rsa<5,>=3.1.4 in d:\\python\\lib\\site-packages (from google-auth<2,>=1.6.3->tensorboard<2.7,>=2.6.0->tensorflow) (4.9)\n",
      "Requirement already satisfied: requests-oauthlib>=0.7.0 in d:\\python\\lib\\site-packages (from google-auth-oauthlib<0.5,>=0.4.1->tensorboard<2.7,>=2.6.0->tensorflow) (1.3.1)\n",
      "Requirement already satisfied: importlib-metadata>=4.4 in d:\\python\\lib\\site-packages (from markdown>=2.6.8->tensorboard<2.7,>=2.6.0->tensorflow) (4.8.3)\n",
      "Requirement already satisfied: idna<4,>=2.5 in d:\\python\\lib\\site-packages (from requests<3,>=2.21.0->tensorboard<2.7,>=2.6.0->tensorflow) (3.3)\n",
      "Requirement already satisfied: urllib3<1.27,>=1.21.1 in d:\\python\\lib\\site-packages (from requests<3,>=2.21.0->tensorboard<2.7,>=2.6.0->tensorflow) (1.26.10)\n",
      "Requirement already satisfied: charset-normalizer~=2.0.0 in d:\\python\\lib\\site-packages (from requests<3,>=2.21.0->tensorboard<2.7,>=2.6.0->tensorflow) (2.0.12)\n",
      "Requirement already satisfied: certifi>=2017.4.17 in d:\\python\\lib\\site-packages (from requests<3,>=2.21.0->tensorboard<2.7,>=2.6.0->tensorflow) (2022.6.15)\n",
      "Requirement already satisfied: dataclasses in d:\\python\\lib\\site-packages (from werkzeug>=0.11.15->tensorboard<2.7,>=2.6.0->tensorflow) (0.8)\n",
      "Requirement already satisfied: zipp>=0.5 in d:\\python\\lib\\site-packages (from importlib-metadata>=4.4->markdown>=2.6.8->tensorboard<2.7,>=2.6.0->tensorflow) (3.6.0)\n",
      "Requirement already satisfied: pyasn1<0.5.0,>=0.4.6 in d:\\python\\lib\\site-packages (from pyasn1-modules>=0.2.1->google-auth<2,>=1.6.3->tensorboard<2.7,>=2.6.0->tensorflow) (0.4.8)\n",
      "Requirement already satisfied: oauthlib>=3.0.0 in d:\\python\\lib\\site-packages (from requests-oauthlib>=0.7.0->google-auth-oauthlib<0.5,>=0.4.1->tensorboard<2.7,>=2.6.0->tensorflow) (3.2.2)\n"
     ]
    }
   ],
   "source": [
    "pip install --upgrade tensorflow"
   ]
  },
  {
   "cell_type": "code",
   "execution_count": null,
   "metadata": {
    "executionInfo": {
     "elapsed": 2,
     "status": "ok",
     "timestamp": 1750585137984,
     "user": {
      "displayName": "PAWAR SAKSHI RAJENDRA",
      "userId": "08663417119460558839"
     },
     "user_tz": -330
    },
    "id": "u0vw6G7QT5Qp"
   },
   "outputs": [],
   "source": []
  },
  {
   "cell_type": "code",
   "execution_count": 6,
   "metadata": {
    "executionInfo": {
     "elapsed": 2,
     "status": "ok",
     "timestamp": 1750585138000,
     "user": {
      "displayName": "PAWAR SAKSHI RAJENDRA",
      "userId": "08663417119460558839"
     },
     "user_tz": -330
    },
    "id": "zDgi2LVcOfwS"
   },
   "outputs": [],
   "source": [
    "import pandas as pd\n",
    "import numpy as np\n",
    "import tensorflow as tf\n",
    "from tensorflow.keras.models import Sequential\n",
    "from tensorflow.keras.layers import Dense, Dropout, BatchNormalization, LeakyReLU\n",
    "from tensorflow.keras.optimizers import Adam\n",
    "from sklearn.model_selection import train_test_split\n",
    "from sklearn.preprocessing import StandardScaler\n",
    "from sklearn.metrics import accuracy_score, precision_score, recall_score, f1_score, classification_report\n",
    "import matplotlib.pyplot as plt\n",
    "#use RobustScaler for normalization\n",
    "from sklearn.preprocessing import RobustScaler\n",
    "# use for learning rate schedular\n",
    "from tensorflow.keras.callbacks import ReduceLROnPlateau\n",
    "#for early stopping\n",
    "from tensorflow.keras.callbacks import EarlyStopping\n",
    "#for l2 regularization\n",
    "from tensorflow.keras.regularizers import l2\n",
    "from collections import Counter\n",
    "from sklearn.preprocessing import LabelEncoder\n",
    "\n",
    "import time\n",
    "import os"
   ]
  },
  {
   "cell_type": "code",
   "execution_count": 7,
   "metadata": {
    "colab": {
     "base_uri": "https://localhost:8080/"
    },
    "executionInfo": {
     "elapsed": 1975,
     "status": "ok",
     "timestamp": 1750585139976,
     "user": {
      "displayName": "PAWAR SAKSHI RAJENDRA",
      "userId": "08663417119460558839"
     },
     "user_tz": -330
    },
    "id": "0zIdAsEmOxMl",
    "outputId": "a5588baa-490d-4063-be7b-702649c9b925"
   },
   "outputs": [],
   "source": [
    "\n",
    "df = pd.read_csv(r'C:\\Users\\Pranav Desai\\Desktop\\Chronic Disease\\Augmented kidney_dataset.csv')"
   ]
  },
  {
   "cell_type": "code",
   "execution_count": null,
   "metadata": {
    "executionInfo": {
     "elapsed": 20,
     "status": "ok",
     "timestamp": 1750585140015,
     "user": {
      "displayName": "PAWAR SAKSHI RAJENDRA",
      "userId": "08663417119460558839"
     },
     "user_tz": -330
    },
    "id": "H3MTHwKhABqH"
   },
   "outputs": [],
   "source": []
  },
  {
   "cell_type": "code",
   "execution_count": 8,
   "metadata": {
    "executionInfo": {
     "elapsed": 2,
     "status": "ok",
     "timestamp": 1750585140028,
     "user": {
      "displayName": "PAWAR SAKSHI RAJENDRA",
      "userId": "08663417119460558839"
     },
     "user_tz": -330
    },
    "id": "BJCeisNOmdTs"
   },
   "outputs": [],
   "source": [
    "x = df.drop(\"classification\", axis=1).values\n",
    "y = df[\"classification\"].values\n"
   ]
  },
  {
   "cell_type": "code",
   "execution_count": 9,
   "metadata": {
    "executionInfo": {
     "elapsed": 14,
     "status": "ok",
     "timestamp": 1750585140043,
     "user": {
      "displayName": "PAWAR SAKSHI RAJENDRA",
      "userId": "08663417119460558839"
     },
     "user_tz": -330
    },
    "id": "gypN07RLKQuu"
   },
   "outputs": [],
   "source": [
    "scaler = RobustScaler()\n",
    "x_scaled = scaler.fit_transform(x)"
   ]
  },
  {
   "cell_type": "code",
   "execution_count": 10,
   "metadata": {
    "executionInfo": {
     "elapsed": 1,
     "status": "ok",
     "timestamp": 1750585140045,
     "user": {
      "displayName": "PAWAR SAKSHI RAJENDRA",
      "userId": "08663417119460558839"
     },
     "user_tz": -330
    },
    "id": "hU_mY3-oKTV9"
   },
   "outputs": [],
   "source": [
    "x_train, x_test, y_train, y_test = train_test_split(x_scaled, y, test_size=0.2, random_state=42, stratify=y)"
   ]
  },
  {
   "cell_type": "code",
   "execution_count": 11,
   "metadata": {
    "executionInfo": {
     "elapsed": 5,
     "status": "ok",
     "timestamp": 1750585140061,
     "user": {
      "displayName": "PAWAR SAKSHI RAJENDRA",
      "userId": "08663417119460558839"
     },
     "user_tz": -330
    },
    "id": "Nuue1MGMPHm0"
   },
   "outputs": [],
   "source": [
    "scaler = RobustScaler()\n",
    "x_train_scaled = scaler.fit_transform(x_train)\n",
    "x_test_scaled = scaler.transform(x_test)"
   ]
  },
  {
   "cell_type": "code",
   "execution_count": 12,
   "metadata": {
    "colab": {
     "base_uri": "https://localhost:8080/",
     "height": 235
    },
    "executionInfo": {
     "elapsed": 29,
     "status": "ok",
     "timestamp": 1750585140091,
     "user": {
      "displayName": "PAWAR SAKSHI RAJENDRA",
      "userId": "08663417119460558839"
     },
     "user_tz": -330
    },
    "id": "QnGFdFjuIWop",
    "outputId": "39cd87fc-3f86-42e9-b945-b53d918d05e5"
   },
   "outputs": [
    {
     "data": {
      "text/html": [
       "<div>\n",
       "<style scoped>\n",
       "    .dataframe tbody tr th:only-of-type {\n",
       "        vertical-align: middle;\n",
       "    }\n",
       "\n",
       "    .dataframe tbody tr th {\n",
       "        vertical-align: top;\n",
       "    }\n",
       "\n",
       "    .dataframe thead th {\n",
       "        text-align: right;\n",
       "    }\n",
       "</style>\n",
       "<table border=\"1\" class=\"dataframe\">\n",
       "  <thead>\n",
       "    <tr style=\"text-align: right;\">\n",
       "      <th></th>\n",
       "      <th>age</th>\n",
       "      <th>bp</th>\n",
       "      <th>sg</th>\n",
       "      <th>al</th>\n",
       "      <th>su</th>\n",
       "      <th>rbc</th>\n",
       "      <th>pc</th>\n",
       "      <th>pcc</th>\n",
       "      <th>ba</th>\n",
       "      <th>bgr</th>\n",
       "      <th>...</th>\n",
       "      <th>pcv</th>\n",
       "      <th>wc</th>\n",
       "      <th>rc</th>\n",
       "      <th>htn</th>\n",
       "      <th>dm</th>\n",
       "      <th>cad</th>\n",
       "      <th>appet</th>\n",
       "      <th>pe</th>\n",
       "      <th>ane</th>\n",
       "      <th>classification</th>\n",
       "    </tr>\n",
       "  </thead>\n",
       "  <tbody>\n",
       "    <tr>\n",
       "      <th>0</th>\n",
       "      <td>45</td>\n",
       "      <td>80</td>\n",
       "      <td>1.025</td>\n",
       "      <td>0</td>\n",
       "      <td>0</td>\n",
       "      <td>1</td>\n",
       "      <td>1</td>\n",
       "      <td>0</td>\n",
       "      <td>0</td>\n",
       "      <td>82</td>\n",
       "      <td>...</td>\n",
       "      <td>46</td>\n",
       "      <td>9100</td>\n",
       "      <td>4.7</td>\n",
       "      <td>0</td>\n",
       "      <td>0</td>\n",
       "      <td>0</td>\n",
       "      <td>0</td>\n",
       "      <td>0</td>\n",
       "      <td>0</td>\n",
       "      <td>1</td>\n",
       "    </tr>\n",
       "    <tr>\n",
       "      <th>1</th>\n",
       "      <td>33</td>\n",
       "      <td>80</td>\n",
       "      <td>1.025</td>\n",
       "      <td>0</td>\n",
       "      <td>0</td>\n",
       "      <td>1</td>\n",
       "      <td>1</td>\n",
       "      <td>0</td>\n",
       "      <td>0</td>\n",
       "      <td>100</td>\n",
       "      <td>...</td>\n",
       "      <td>52</td>\n",
       "      <td>6700</td>\n",
       "      <td>6.0</td>\n",
       "      <td>0</td>\n",
       "      <td>0</td>\n",
       "      <td>0</td>\n",
       "      <td>0</td>\n",
       "      <td>0</td>\n",
       "      <td>0</td>\n",
       "      <td>1</td>\n",
       "    </tr>\n",
       "    <tr>\n",
       "      <th>2</th>\n",
       "      <td>5</td>\n",
       "      <td>50</td>\n",
       "      <td>1.010</td>\n",
       "      <td>0</td>\n",
       "      <td>0</td>\n",
       "      <td>1</td>\n",
       "      <td>1</td>\n",
       "      <td>0</td>\n",
       "      <td>0</td>\n",
       "      <td>121</td>\n",
       "      <td>...</td>\n",
       "      <td>36</td>\n",
       "      <td>12400</td>\n",
       "      <td>4.8</td>\n",
       "      <td>0</td>\n",
       "      <td>0</td>\n",
       "      <td>0</td>\n",
       "      <td>0</td>\n",
       "      <td>0</td>\n",
       "      <td>0</td>\n",
       "      <td>0</td>\n",
       "    </tr>\n",
       "    <tr>\n",
       "      <th>3</th>\n",
       "      <td>44</td>\n",
       "      <td>60</td>\n",
       "      <td>1.020</td>\n",
       "      <td>0</td>\n",
       "      <td>0</td>\n",
       "      <td>1</td>\n",
       "      <td>1</td>\n",
       "      <td>0</td>\n",
       "      <td>0</td>\n",
       "      <td>95</td>\n",
       "      <td>...</td>\n",
       "      <td>50</td>\n",
       "      <td>7700</td>\n",
       "      <td>6.3</td>\n",
       "      <td>0</td>\n",
       "      <td>0</td>\n",
       "      <td>0</td>\n",
       "      <td>0</td>\n",
       "      <td>0</td>\n",
       "      <td>0</td>\n",
       "      <td>1</td>\n",
       "    </tr>\n",
       "    <tr>\n",
       "      <th>4</th>\n",
       "      <td>54</td>\n",
       "      <td>60</td>\n",
       "      <td>1.020</td>\n",
       "      <td>3</td>\n",
       "      <td>0</td>\n",
       "      <td>1</td>\n",
       "      <td>1</td>\n",
       "      <td>0</td>\n",
       "      <td>0</td>\n",
       "      <td>125</td>\n",
       "      <td>...</td>\n",
       "      <td>46</td>\n",
       "      <td>8000</td>\n",
       "      <td>4.8</td>\n",
       "      <td>1</td>\n",
       "      <td>1</td>\n",
       "      <td>0</td>\n",
       "      <td>0</td>\n",
       "      <td>1</td>\n",
       "      <td>0</td>\n",
       "      <td>0</td>\n",
       "    </tr>\n",
       "  </tbody>\n",
       "</table>\n",
       "<p>5 rows × 25 columns</p>\n",
       "</div>"
      ],
      "text/plain": [
       "   age  bp     sg  al  su  rbc  pc  pcc  ba  bgr  ...  pcv     wc   rc  htn  \\\n",
       "0   45  80  1.025   0   0    1   1    0   0   82  ...   46   9100  4.7    0   \n",
       "1   33  80  1.025   0   0    1   1    0   0  100  ...   52   6700  6.0    0   \n",
       "2    5  50  1.010   0   0    1   1    0   0  121  ...   36  12400  4.8    0   \n",
       "3   44  60  1.020   0   0    1   1    0   0   95  ...   50   7700  6.3    0   \n",
       "4   54  60  1.020   3   0    1   1    0   0  125  ...   46   8000  4.8    1   \n",
       "\n",
       "   dm  cad  appet  pe  ane  classification  \n",
       "0   0    0      0   0    0               1  \n",
       "1   0    0      0   0    0               1  \n",
       "2   0    0      0   0    0               0  \n",
       "3   0    0      0   0    0               1  \n",
       "4   1    0      0   1    0               0  \n",
       "\n",
       "[5 rows x 25 columns]"
      ]
     },
     "execution_count": 12,
     "metadata": {},
     "output_type": "execute_result"
    }
   ],
   "source": [
    "df.head()"
   ]
  },
  {
   "cell_type": "code",
   "execution_count": 13,
   "metadata": {
    "colab": {
     "base_uri": "https://localhost:8080/"
    },
    "executionInfo": {
     "elapsed": 105,
     "status": "ok",
     "timestamp": 1750585140197,
     "user": {
      "displayName": "PAWAR SAKSHI RAJENDRA",
      "userId": "08663417119460558839"
     },
     "user_tz": -330
    },
    "id": "IxEl70KfPRXE",
    "outputId": "2fc6b43d-ba6f-4c2b-f1a7-d26778167998"
   },
   "outputs": [],
   "source": [
    "model = Sequential([\n",
    "    Dense(256, kernel_regularizer=l2(0.001), input_shape=(x_train.shape[1],)),  # Increased neurons\n",
    "    LeakyReLU(alpha=0.1),\n",
    "    BatchNormalization(),\n",
    "    Dropout(0.2),\n",
    "\n",
    "    Dense(128, kernel_regularizer=l2(0.001)),\n",
    "    LeakyReLU(alpha=0.1),\n",
    "    BatchNormalization(),\n",
    "    Dropout(0.2),\n",
    "\n",
    "    Dense(64, kernel_regularizer=l2(0.001)),\n",
    "    LeakyReLU(alpha=0.1),\n",
    "    BatchNormalization(),\n",
    "    Dropout(0.2),\n",
    "\n",
    "\n",
    "    Dense(32, kernel_regularizer=l2(0.001)),\n",
    "    LeakyReLU(alpha=0.1),\n",
    "    BatchNormalization(),\n",
    "    Dropout(0.2),\n",
    "\n",
    "    Dense(1, activation='sigmoid')  # Output layer for binary classification\n",
    "])"
   ]
  },
  {
   "cell_type": "code",
   "execution_count": 14,
   "metadata": {
    "executionInfo": {
     "elapsed": 41,
     "status": "ok",
     "timestamp": 1750585140240,
     "user": {
      "displayName": "PAWAR SAKSHI RAJENDRA",
      "userId": "08663417119460558839"
     },
     "user_tz": -330
    },
    "id": "AqMr8caWPV2R"
   },
   "outputs": [],
   "source": [
    "\n",
    "optimizer = Adam(learning_rate=0.0001)\n",
    "\n",
    "model.compile(optimizer=optimizer, loss='binary_crossentropy', metrics=['accuracy'])\n",
    "\n",
    "lr_scheduler = ReduceLROnPlateau(monitor='val_loss', factor=0.5, patience=5, min_lr=0.001)\n",
    "early_stopping = EarlyStopping(monitor='val_loss', patience=10, restore_best_weights=True)\n"
   ]
  },
  {
   "cell_type": "code",
   "execution_count": 15,
   "metadata": {
    "colab": {
     "base_uri": "https://localhost:8080/"
    },
    "executionInfo": {
     "elapsed": 15370,
     "status": "ok",
     "timestamp": 1750585155608,
     "user": {
      "displayName": "PAWAR SAKSHI RAJENDRA",
      "userId": "08663417119460558839"
     },
     "user_tz": -330
    },
    "id": "YRm188WWy0Al",
    "outputId": "f4c1631d-a25c-4339-ceb9-b1f316cc9792"
   },
   "outputs": [
    {
     "name": "stdout",
     "output_type": "stream",
     "text": [
      "Epoch 1/75\n",
      "160/160 [==============================] - 3s 11ms/step - loss: 0.8262 - accuracy: 0.7726 - val_loss: 0.6806 - val_accuracy: 0.9640\n",
      "Epoch 2/75\n",
      "160/160 [==============================] - 2s 11ms/step - loss: 0.5296 - accuracy: 0.9386 - val_loss: 0.4619 - val_accuracy: 0.9835\n",
      "Epoch 3/75\n",
      "160/160 [==============================] - 2s 10ms/step - loss: 0.4552 - accuracy: 0.9676 - val_loss: 0.3986 - val_accuracy: 0.9950\n",
      "Epoch 4/75\n",
      "160/160 [==============================] - 2s 10ms/step - loss: 0.4162 - accuracy: 0.9826 - val_loss: 0.3720 - val_accuracy: 1.0000\n",
      "Epoch 5/75\n",
      "160/160 [==============================] - 2s 10ms/step - loss: 0.3921 - accuracy: 0.9877 - val_loss: 0.3559 - val_accuracy: 1.0000\n",
      "Epoch 6/75\n",
      "160/160 [==============================] - 2s 11ms/step - loss: 0.3792 - accuracy: 0.9893 - val_loss: 0.3438 - val_accuracy: 1.0000\n",
      "Epoch 7/75\n",
      "160/160 [==============================] - 2s 11ms/step - loss: 0.3643 - accuracy: 0.9902 - val_loss: 0.3353 - val_accuracy: 1.0000\n",
      "Epoch 8/75\n",
      "160/160 [==============================] - 2s 11ms/step - loss: 0.3518 - accuracy: 0.9921 - val_loss: 0.3269 - val_accuracy: 1.0000\n",
      "Epoch 9/75\n",
      "160/160 [==============================] - 2s 11ms/step - loss: 0.3418 - accuracy: 0.9927 - val_loss: 0.3186 - val_accuracy: 1.0000\n",
      "Epoch 10/75\n",
      "160/160 [==============================] - 2s 11ms/step - loss: 0.3351 - accuracy: 0.9933 - val_loss: 0.3118 - val_accuracy: 1.0000\n",
      "Epoch 11/75\n",
      "160/160 [==============================] - 2s 11ms/step - loss: 0.3256 - accuracy: 0.9952 - val_loss: 0.3033 - val_accuracy: 1.0000\n",
      "Epoch 12/75\n",
      "160/160 [==============================] - 2s 11ms/step - loss: 0.3128 - accuracy: 0.9966 - val_loss: 0.2956 - val_accuracy: 1.0000\n",
      "Epoch 13/75\n",
      "160/160 [==============================] - 2s 11ms/step - loss: 0.3072 - accuracy: 0.9952 - val_loss: 0.2878 - val_accuracy: 1.0000\n",
      "Epoch 14/75\n",
      "160/160 [==============================] - 2s 11ms/step - loss: 0.3003 - accuracy: 0.9955 - val_loss: 0.2803 - val_accuracy: 1.0000\n",
      "Epoch 15/75\n",
      "160/160 [==============================] - 2s 11ms/step - loss: 0.2903 - accuracy: 0.9961 - val_loss: 0.2724 - val_accuracy: 1.0000\n",
      "Epoch 16/75\n",
      "160/160 [==============================] - 2s 11ms/step - loss: 0.2792 - accuracy: 0.9973 - val_loss: 0.2643 - val_accuracy: 1.0000\n",
      "Epoch 17/75\n",
      "160/160 [==============================] - 2s 11ms/step - loss: 0.2718 - accuracy: 0.9969 - val_loss: 0.2563 - val_accuracy: 1.0000\n",
      "Epoch 18/75\n",
      "160/160 [==============================] - 2s 11ms/step - loss: 0.2603 - accuracy: 0.9981 - val_loss: 0.2482 - val_accuracy: 1.0000\n",
      "Epoch 19/75\n",
      "160/160 [==============================] - 2s 11ms/step - loss: 0.2544 - accuracy: 0.9970 - val_loss: 0.2400 - val_accuracy: 1.0000\n",
      "Epoch 20/75\n",
      "160/160 [==============================] - 2s 11ms/step - loss: 0.2451 - accuracy: 0.9974 - val_loss: 0.2318 - val_accuracy: 1.0000\n",
      "Epoch 21/75\n",
      "160/160 [==============================] - 2s 11ms/step - loss: 0.2352 - accuracy: 0.9980 - val_loss: 0.2238 - val_accuracy: 1.0000\n",
      "Epoch 22/75\n",
      "160/160 [==============================] - 2s 11ms/step - loss: 0.2259 - accuracy: 0.9987 - val_loss: 0.2156 - val_accuracy: 1.0000\n",
      "Epoch 23/75\n",
      "160/160 [==============================] - 2s 11ms/step - loss: 0.2165 - accuracy: 0.9992 - val_loss: 0.2074 - val_accuracy: 1.0000\n",
      "Epoch 24/75\n",
      "160/160 [==============================] - 2s 11ms/step - loss: 0.2118 - accuracy: 0.9975 - val_loss: 0.1994 - val_accuracy: 1.0000\n",
      "Epoch 25/75\n",
      "160/160 [==============================] - 2s 11ms/step - loss: 0.2015 - accuracy: 0.9984 - val_loss: 0.1914 - val_accuracy: 1.0000\n",
      "Epoch 26/75\n",
      "160/160 [==============================] - 2s 11ms/step - loss: 0.1932 - accuracy: 0.9983 - val_loss: 0.1837 - val_accuracy: 1.0000\n",
      "Epoch 27/75\n",
      "160/160 [==============================] - 2s 11ms/step - loss: 0.1836 - accuracy: 0.9991 - val_loss: 0.1759 - val_accuracy: 1.0000\n",
      "Epoch 28/75\n",
      "160/160 [==============================] - 2s 11ms/step - loss: 0.1767 - accuracy: 0.9992 - val_loss: 0.1684 - val_accuracy: 1.0000\n",
      "Epoch 29/75\n",
      "160/160 [==============================] - 2s 11ms/step - loss: 0.1684 - accuracy: 0.9990 - val_loss: 0.1608 - val_accuracy: 1.0000\n",
      "Epoch 30/75\n",
      "160/160 [==============================] - 2s 11ms/step - loss: 0.1617 - accuracy: 0.9989 - val_loss: 0.1536 - val_accuracy: 1.0000\n",
      "Epoch 31/75\n",
      "160/160 [==============================] - 2s 11ms/step - loss: 0.1526 - accuracy: 0.9996 - val_loss: 0.1466 - val_accuracy: 1.0000\n",
      "Epoch 32/75\n",
      "160/160 [==============================] - 2s 11ms/step - loss: 0.1491 - accuracy: 0.9985 - val_loss: 0.1398 - val_accuracy: 1.0000\n",
      "Epoch 33/75\n",
      "160/160 [==============================] - 2s 11ms/step - loss: 0.1405 - accuracy: 0.9990 - val_loss: 0.1335 - val_accuracy: 1.0000\n",
      "Epoch 34/75\n",
      "160/160 [==============================] - 2s 11ms/step - loss: 0.1360 - accuracy: 0.9984 - val_loss: 0.1277 - val_accuracy: 1.0000\n",
      "Epoch 35/75\n",
      "160/160 [==============================] - 2s 11ms/step - loss: 0.1293 - accuracy: 0.9985 - val_loss: 0.1223 - val_accuracy: 1.0000\n",
      "Epoch 36/75\n",
      "160/160 [==============================] - 2s 11ms/step - loss: 0.1232 - accuracy: 0.9989 - val_loss: 0.1172 - val_accuracy: 1.0000\n",
      "Epoch 37/75\n",
      "160/160 [==============================] - 2s 11ms/step - loss: 0.1207 - accuracy: 0.9981 - val_loss: 0.1126 - val_accuracy: 1.0000\n",
      "Epoch 38/75\n",
      "160/160 [==============================] - 2s 11ms/step - loss: 0.1146 - accuracy: 0.9984 - val_loss: 0.1082 - val_accuracy: 1.0000\n",
      "Epoch 39/75\n",
      "160/160 [==============================] - 2s 11ms/step - loss: 0.1102 - accuracy: 0.9990 - val_loss: 0.1041 - val_accuracy: 1.0000\n",
      "Epoch 40/75\n",
      "160/160 [==============================] - 2s 11ms/step - loss: 0.1047 - accuracy: 0.9995 - val_loss: 0.1001 - val_accuracy: 1.0000\n",
      "Epoch 41/75\n",
      "160/160 [==============================] - 2s 11ms/step - loss: 0.1024 - accuracy: 0.9990 - val_loss: 0.0963 - val_accuracy: 1.0000\n",
      "Epoch 42/75\n",
      "160/160 [==============================] - 2s 11ms/step - loss: 0.0976 - accuracy: 0.9991 - val_loss: 0.0927 - val_accuracy: 1.0000\n",
      "Epoch 43/75\n",
      "160/160 [==============================] - 2s 11ms/step - loss: 0.0936 - accuracy: 0.9992 - val_loss: 0.0893 - val_accuracy: 1.0000\n",
      "Epoch 44/75\n",
      "160/160 [==============================] - 2s 11ms/step - loss: 0.0900 - accuracy: 0.9995 - val_loss: 0.0859 - val_accuracy: 1.0000\n",
      "Epoch 45/75\n",
      "160/160 [==============================] - 2s 11ms/step - loss: 0.0868 - accuracy: 0.9994 - val_loss: 0.0828 - val_accuracy: 1.0000\n",
      "Epoch 46/75\n",
      "160/160 [==============================] - 2s 11ms/step - loss: 0.0828 - accuracy: 0.9998 - val_loss: 0.0796 - val_accuracy: 1.0000\n",
      "Epoch 47/75\n",
      "160/160 [==============================] - 2s 11ms/step - loss: 0.0821 - accuracy: 0.9987 - val_loss: 0.0767 - val_accuracy: 1.0000\n",
      "Epoch 48/75\n",
      "160/160 [==============================] - 2s 11ms/step - loss: 0.0787 - accuracy: 0.9991 - val_loss: 0.0740 - val_accuracy: 1.0000\n",
      "Epoch 49/75\n",
      "160/160 [==============================] - 2s 11ms/step - loss: 0.0746 - accuracy: 0.9996 - val_loss: 0.0715 - val_accuracy: 1.0000\n",
      "Epoch 50/75\n",
      "160/160 [==============================] - 2s 11ms/step - loss: 0.0720 - accuracy: 0.9996 - val_loss: 0.0689 - val_accuracy: 1.0000\n",
      "Epoch 51/75\n",
      "160/160 [==============================] - 2s 11ms/step - loss: 0.0706 - accuracy: 0.9991 - val_loss: 0.0666 - val_accuracy: 1.0000\n",
      "Epoch 52/75\n",
      "160/160 [==============================] - 2s 11ms/step - loss: 0.0691 - accuracy: 0.9990 - val_loss: 0.0646 - val_accuracy: 1.0000\n",
      "Epoch 53/75\n",
      "160/160 [==============================] - 2s 11ms/step - loss: 0.0666 - accuracy: 0.9990 - val_loss: 0.0627 - val_accuracy: 1.0000\n",
      "Epoch 54/75\n",
      "160/160 [==============================] - 2s 11ms/step - loss: 0.0630 - accuracy: 0.9998 - val_loss: 0.0607 - val_accuracy: 1.0000\n",
      "Epoch 55/75\n",
      "160/160 [==============================] - 2s 11ms/step - loss: 0.0604 - accuracy: 0.9999 - val_loss: 0.0587 - val_accuracy: 1.0000\n",
      "Epoch 56/75\n",
      "160/160 [==============================] - 2s 11ms/step - loss: 0.0593 - accuracy: 0.9995 - val_loss: 0.0568 - val_accuracy: 1.0000\n",
      "Epoch 57/75\n",
      "160/160 [==============================] - 2s 11ms/step - loss: 0.0592 - accuracy: 0.9995 - val_loss: 0.0550 - val_accuracy: 1.0000\n",
      "Epoch 58/75\n",
      "160/160 [==============================] - 2s 11ms/step - loss: 0.0556 - accuracy: 0.9998 - val_loss: 0.0532 - val_accuracy: 1.0000\n",
      "Epoch 59/75\n",
      "160/160 [==============================] - 2s 11ms/step - loss: 0.0539 - accuracy: 0.9995 - val_loss: 0.0515 - val_accuracy: 1.0000\n",
      "Epoch 60/75\n",
      "160/160 [==============================] - 2s 11ms/step - loss: 0.0519 - accuracy: 0.9996 - val_loss: 0.0498 - val_accuracy: 1.0000\n",
      "Epoch 61/75\n",
      "160/160 [==============================] - 2s 11ms/step - loss: 0.0515 - accuracy: 0.9990 - val_loss: 0.0484 - val_accuracy: 1.0000\n",
      "Epoch 62/75\n",
      "160/160 [==============================] - 2s 11ms/step - loss: 0.0498 - accuracy: 0.9994 - val_loss: 0.0470 - val_accuracy: 1.0000\n",
      "Epoch 63/75\n",
      "160/160 [==============================] - 2s 11ms/step - loss: 0.0480 - accuracy: 0.9995 - val_loss: 0.0457 - val_accuracy: 1.0000\n",
      "Epoch 64/75\n",
      "160/160 [==============================] - 2s 11ms/step - loss: 0.0468 - accuracy: 0.9996 - val_loss: 0.0444 - val_accuracy: 1.0000\n",
      "Epoch 65/75\n",
      "160/160 [==============================] - 2s 11ms/step - loss: 0.0458 - accuracy: 0.9994 - val_loss: 0.0432 - val_accuracy: 1.0000\n",
      "Epoch 66/75\n",
      "160/160 [==============================] - 2s 10ms/step - loss: 0.0470 - accuracy: 0.9984 - val_loss: 0.0422 - val_accuracy: 1.0000\n",
      "Epoch 67/75\n",
      "160/160 [==============================] - 2s 11ms/step - loss: 0.0470 - accuracy: 0.9981 - val_loss: 0.0414 - val_accuracy: 1.0000\n",
      "Epoch 68/75\n",
      "160/160 [==============================] - 2s 11ms/step - loss: 0.0420 - accuracy: 0.9996 - val_loss: 0.0405 - val_accuracy: 1.0000\n",
      "Epoch 69/75\n",
      "160/160 [==============================] - 2s 10ms/step - loss: 0.0414 - accuracy: 0.9996 - val_loss: 0.0396 - val_accuracy: 1.0000\n",
      "Epoch 70/75\n",
      "160/160 [==============================] - 2s 11ms/step - loss: 0.0398 - accuracy: 0.9999 - val_loss: 0.0387 - val_accuracy: 1.0000\n",
      "Epoch 71/75\n",
      "160/160 [==============================] - 2s 11ms/step - loss: 0.0404 - accuracy: 0.9992 - val_loss: 0.0377 - val_accuracy: 1.0000\n",
      "Epoch 72/75\n",
      "160/160 [==============================] - 2s 11ms/step - loss: 0.0394 - accuracy: 0.9996 - val_loss: 0.0369 - val_accuracy: 1.0000\n",
      "Epoch 73/75\n",
      "160/160 [==============================] - 2s 11ms/step - loss: 0.0376 - accuracy: 0.9999 - val_loss: 0.0360 - val_accuracy: 1.0000\n",
      "Epoch 74/75\n",
      "160/160 [==============================] - 2s 11ms/step - loss: 0.0363 - accuracy: 0.9999 - val_loss: 0.0351 - val_accuracy: 1.0000\n",
      "Epoch 75/75\n",
      "160/160 [==============================] - 2s 11ms/step - loss: 0.0357 - accuracy: 0.9996 - val_loss: 0.0342 - val_accuracy: 1.0000\n"
     ]
    }
   ],
   "source": [
    "\n",
    "history = model.fit(x_train, y_train, epochs=75, batch_size=50, validation_data=(x_test, y_test),callbacks=[early_stopping], verbose=1)\n"
   ]
  },
  {
   "cell_type": "code",
   "execution_count": 16,
   "metadata": {
    "colab": {
     "base_uri": "https://localhost:8080/"
    },
    "executionInfo": {
     "elapsed": 112,
     "status": "ok",
     "timestamp": 1750585155722,
     "user": {
      "displayName": "PAWAR SAKSHI RAJENDRA",
      "userId": "08663417119460558839"
     },
     "user_tz": -330
    },
    "id": "JVsj0h9NP6Jo",
    "outputId": "2876bf76-4f93-4821-c697-ca68b1c5c8ea"
   },
   "outputs": [
    {
     "name": "stdout",
     "output_type": "stream",
     "text": [
      "63/63 [==============================] - 0s 4ms/step - loss: 0.0342 - accuracy: 1.0000\n",
      "Test Accuracy: 100.00%\n"
     ]
    }
   ],
   "source": [
    "test_loss, test_accuracy = model.evaluate(x_test, y_test)\n",
    "print(f\"Test Accuracy: {test_accuracy * 100:.2f}%\")\n"
   ]
  },
  {
   "cell_type": "code",
   "execution_count": 17,
   "metadata": {
    "colab": {
     "base_uri": "https://localhost:8080/"
    },
    "executionInfo": {
     "elapsed": 117,
     "status": "ok",
     "timestamp": 1750585155841,
     "user": {
      "displayName": "PAWAR SAKSHI RAJENDRA",
      "userId": "08663417119460558839"
     },
     "user_tz": -330
    },
    "id": "4GzBBDk9pcuh",
    "outputId": "cba5ca37-cc80-45cb-8e47-81dd7416b05e"
   },
   "outputs": [
    {
     "name": "stdout",
     "output_type": "stream",
     "text": [
      "250/250 [==============================] - 1s 4ms/step - loss: 0.0342 - accuracy: 1.0000\n",
      "Train Accuracy: 100.00%\n"
     ]
    }
   ],
   "source": [
    "x_train_pca = np.array(x_train)\n",
    "y_train = np.array(y_train)\n",
    "train_loss, train_accuracy = model.evaluate(x_train_pca, y_train)\n",
    "print(f\"Train Accuracy: {train_accuracy * 100:.2f}%\")"
   ]
  },
  {
   "cell_type": "code",
   "execution_count": 18,
   "metadata": {
    "executionInfo": {
     "elapsed": 44,
     "status": "ok",
     "timestamp": 1750585155887,
     "user": {
      "displayName": "PAWAR SAKSHI RAJENDRA",
      "userId": "08663417119460558839"
     },
     "user_tz": -330
    },
    "id": "E8TdkENHpnnu"
   },
   "outputs": [],
   "source": [
    " #train 83.93% test 86.97%\n",
    "# increases train 84.14% test 85.71% after RobustScaler normalization of data\n",
    "# after making dropot 0.2 the accuracy train 86.24% test 84.45%\n",
    "# after making epoch 100 train 83.51% test 84.87%\n",
    "# after making learning 0.001 train 84.66% test 85.29%\n",
    "# after making dropout 0.001 and epoch 75 and batch size 16 train 87.50%  test 86.13%\n",
    "# after making epoch 100 and batch size 32 train 88.45% test 87.82%\n",
    "# after making epoch 75 and learning rate 0.001 train 89.60% test 88.66%\n",
    "# after using leakyrelu and making epoch 75 and batch size 16 train  87.18% test 87.82%"
   ]
  },
  {
   "cell_type": "code",
   "execution_count": null,
   "metadata": {
    "executionInfo": {
     "elapsed": 3,
     "status": "ok",
     "timestamp": 1750585155892,
     "user": {
      "displayName": "PAWAR SAKSHI RAJENDRA",
      "userId": "08663417119460558839"
     },
     "user_tz": -330
    },
    "id": "Q8RciliUVLaQ"
   },
   "outputs": [],
   "source": []
  },
  {
   "cell_type": "code",
   "execution_count": 19,
   "metadata": {
    "colab": {
     "base_uri": "https://localhost:8080/"
    },
    "executionInfo": {
     "elapsed": 297,
     "status": "ok",
     "timestamp": 1750585156190,
     "user": {
      "displayName": "PAWAR SAKSHI RAJENDRA",
      "userId": "08663417119460558839"
     },
     "user_tz": -330
    },
    "id": "6SVHLmmWxFWB",
    "outputId": "eecf602b-33a8-4d6a-b215-76e8cb0b7f2b"
   },
   "outputs": [
    {
     "name": "stdout",
     "output_type": "stream",
     "text": [
      "Accuracy: 1.0\n",
      "              precision    recall  f1-score   support\n",
      "\n",
      "           0       1.00      1.00      1.00      1250\n",
      "           1       1.00      1.00      1.00       750\n",
      "\n",
      "    accuracy                           1.00      2000\n",
      "   macro avg       1.00      1.00      1.00      2000\n",
      "weighted avg       1.00      1.00      1.00      2000\n",
      "\n"
     ]
    }
   ],
   "source": [
    "y_pred = model.predict(x_test)\n",
    "y_pred_labels = (y_pred > 0.5).astype(int)\n",
    "\n",
    "print(\"Accuracy:\", accuracy_score(y_test, y_pred_labels))\n",
    "print(classification_report(y_test, y_pred_labels))"
   ]
  },
  {
   "cell_type": "code",
   "execution_count": 20,
   "metadata": {
    "executionInfo": {
     "elapsed": 4,
     "status": "ok",
     "timestamp": 1750585156196,
     "user": {
      "displayName": "PAWAR SAKSHI RAJENDRA",
      "userId": "08663417119460558839"
     },
     "user_tz": -330
    },
    "id": "roPdy2oy6pdN"
   },
   "outputs": [],
   "source": [
    "\n",
    "# Extract values from history\n",
    "loss = history.history['loss']\n",
    "val_loss = history.history['val_loss']\n",
    "accuracy = history.history.get('accuracy', history.history.get('acc'))  # Some versions use 'acc'\n",
    "val_accuracy = history.history.get('val_accuracy', history.history.get('val_acc'))\n",
    "\n",
    "epochs = range(1, len(loss) + 1)\n"
   ]
  },
  {
   "cell_type": "code",
   "execution_count": 21,
   "metadata": {
    "colab": {
     "base_uri": "https://localhost:8080/",
     "height": 504
    },
    "executionInfo": {
     "elapsed": 489,
     "status": "ok",
     "timestamp": 1750585156690,
     "user": {
      "displayName": "PAWAR SAKSHI RAJENDRA",
      "userId": "08663417119460558839"
     },
     "user_tz": -330
    },
    "id": "U5DOQIZy7LwR",
    "outputId": "662156ea-7ef5-46c7-bb88-ff332735fd6a"
   },
   "outputs": [
    {
     "data": {
      "text/plain": [
       "<matplotlib.legend.Legend at 0x22482c592e8>"
      ]
     },
     "execution_count": 21,
     "metadata": {},
     "output_type": "execute_result"
    },
    {
     "data": {
      "image/png": "[encoded data removed]",
      "text/plain": [
       "<Figure size 864x360 with 1 Axes>"
      ]
     },
     "metadata": {
      "needs_background": "light"
     },
     "output_type": "display_data"
    }
   ],
   "source": [
    "# Plot Loss\n",
    "plt.figure(figsize=(12, 5))\n",
    "plt.subplot(1, 2, 1)\n",
    "plt.plot(epochs, loss, 'bo-', label='Training Loss')\n",
    "plt.plot(epochs, val_loss, 'r*-', label='Validation Loss')\n",
    "plt.xlabel('Epochs')\n",
    "plt.ylabel('Loss')\n",
    "plt.title('Model Loss Over Epochs')\n",
    "plt.legend()\n"
   ]
  },
  {
   "cell_type": "code",
   "execution_count": 22,
   "metadata": {
    "colab": {
     "base_uri": "https://localhost:8080/",
     "height": 407
    },
    "executionInfo": {
     "elapsed": 180,
     "status": "ok",
     "timestamp": 1750585156872,
     "user": {
      "displayName": "PAWAR SAKSHI RAJENDRA",
      "userId": "08663417119460558839"
     },
     "user_tz": -330
    },
    "id": "5j4yvSR47OJH",
    "outputId": "63b4455d-101f-4b03-be5c-f914e98a6c4f"
   },
   "outputs": [
    {
     "data": {
      "image/png": "[encoded data removed]",
      "text/plain": [
       "<Figure size 864x288 with 1 Axes>"
      ]
     },
     "metadata": {
      "needs_background": "light"
     },
     "output_type": "display_data"
    }
   ],
   "source": [
    "plt.figure(figsize=(12, 4))\n",
    "plt.subplot(1, 2, 2)\n",
    "plt.plot(epochs, accuracy, 'bo-', label='Training Accuracy')\n",
    "plt.plot(epochs, val_accuracy, 'r*-', label='Validation Accuracy')\n",
    "plt.xlabel('Epochs')\n",
    "plt.ylabel('Accuracy')\n",
    "plt.title('Model Accuracy Over Epochs')\n",
    "plt.legend()\n",
    "\n",
    "plt.tight_layout()\n",
    "plt.show()"
   ]
  },
  {
   "cell_type": "code",
   "execution_count": 23,
   "metadata": {
    "colab": {
     "base_uri": "https://localhost:8080/"
    },
    "executionInfo": {
     "elapsed": 295,
     "status": "ok",
     "timestamp": 1750585157170,
     "user": {
      "displayName": "PAWAR SAKSHI RAJENDRA",
      "userId": "08663417119460558839"
     },
     "user_tz": -330
    },
    "id": "b_tIPsOmaDPk",
    "outputId": "cbc13c15-686b-49bd-aa63-efa56e8f5364"
   },
   "outputs": [
    {
     "name": "stdout",
     "output_type": "stream",
     "text": [
      "WARNING:tensorflow:From d:\\Python\\lib\\site-packages\\tensorflow\\python\\ops\\math_ops.py:3777: tensor_shape_from_node_def_name (from tensorflow.python.framework.graph_util_impl) is deprecated and will be removed in a future version.\n",
      "Instructions for updating:\n",
      "Use `tf.compat.v1.graph_util.tensor_shape_from_node_def_name`\n"
     ]
    },
    {
     "data": {
      "text/plain": [
       "{'total_parameters': 51585,\n",
       " 'FLOPs': 101729,\n",
       " 'GFLOPs': 0.000101729,\n",
       " 'model_size_bytes': 704736,\n",
       " 'model_size_MB': 0.672088623046875,\n",
       " 'inference_time_seconds': 0.11760878562927246,\n",
       " 'accuracy': 1.0}"
      ]
     },
     "execution_count": 23,
     "metadata": {},
     "output_type": "execute_result"
    }
   ],
   "source": [
    "import tensorflow as tf\n",
    "import os\n",
    "import time\n",
    "from tensorflow.python.framework.convert_to_constants import convert_variables_to_constants_v2\n",
    "from tensorflow.python.profiler import model_analyzer\n",
    "from tensorflow.python.profiler.option_builder import ProfileOptionBuilder\n",
    "\n",
    "def evaluate_model_metrics(model, x_test, y_test, model_name=\"model_metrics\"):\n",
    "    results = {}\n",
    "\n",
    "    # Total Parameters\n",
    "    results['total_parameters'] = model.count_params()\n",
    "\n",
    "    # FLOPs Calculation\n",
    "    func = tf.function(lambda x: model(x))\n",
    "    concrete_func = func.get_concrete_function(\n",
    "        tf.TensorSpec([1] + list(model.input_shape[1:]), model.inputs[0].dtype)\n",
    "    )\n",
    "    frozen_func = convert_variables_to_constants_v2(concrete_func)\n",
    "    flops = model_analyzer.profile(\n",
    "        graph=frozen_func.graph,\n",
    "        options=ProfileOptionBuilder.float_operation()\n",
    "    ).total_float_ops\n",
    "    results['FLOPs'] = flops\n",
    "    results['GFLOPs'] = flops / 1e9\n",
    "\n",
    "    # Model Size\n",
    "    model_path = f\"{model_name}.h5\"\n",
    "    model.save(model_path)\n",
    "    size_bytes = os.path.getsize(model_path)\n",
    "    results['model_size_bytes'] = size_bytes\n",
    "    results['model_size_MB'] = size_bytes / (1024 * 1024)\n",
    "\n",
    "    # Inference Time\n",
    "    start = time.time()\n",
    "    model.predict(x_test)\n",
    "    end = time.time()\n",
    "    results['inference_time_seconds'] = end - start\n",
    "\n",
    "    # Accuracy\n",
    "    loss, acc = model.evaluate(x_test, y_test, verbose=0)\n",
    "    results['accuracy'] = acc\n",
    "\n",
    "    return results\n",
    "evaluate_model_metrics(model, x_test, y_test, model_name=\"model_metrics\")\n",
    "\n"
   ]
  },
  {
   "cell_type": "code",
   "execution_count": null,
   "metadata": {
    "executionInfo": {
     "elapsed": 49,
     "status": "ok",
     "timestamp": 1750585157223,
     "user": {
      "displayName": "PAWAR SAKSHI RAJENDRA",
      "userId": "08663417119460558839"
     },
     "user_tz": -330
    },
    "id": "ioigSotXaoDd"
   },
   "outputs": [],
   "source": []
  }
 ],
 "metadata": {
  "accelerator": "TPU",
  "colab": {
   "gpuType": "V28",
   "provenance": []
  },
  "kernelspec": {
   "display_name": "Python 3",
   "name": "python3"
  },
  "language_info": {
   "codemirror_mode": {
    "name": "ipython",
    "version": 3
   },
   "file_extension": ".py",
   "mimetype": "text/x-python",
   "name": "python",
   "nbconvert_exporter": "python",
   "pygments_lexer": "ipython3",
   "version": "3.6.2"
  }
 },
 "nbformat": 4,
 "nbformat_minor": 0
}
