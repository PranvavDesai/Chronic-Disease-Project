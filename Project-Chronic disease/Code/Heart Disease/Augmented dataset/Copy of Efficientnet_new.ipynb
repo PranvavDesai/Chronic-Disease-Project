{
 "cells": [
  {
   "cell_type": "code",
   "execution_count": 2,
   "metadata": {
    "colab": {
     "background_save": true,
     "base_uri": "https://localhost:8080/",
     "height": 1000
    },
    "executionInfo": {
     "elapsed": 33173,
     "status": "ok",
     "timestamp": 1752490527536,
     "user": {
      "displayName": "DESAI PRANAV AVINASH",
      "userId": "15523395059269698347"
     },
     "user_tz": -330
    },
    "id": "M3kal3_5HtpK"
   },
   "outputs": [
    {
     "name": "stdout",
     "output_type": "stream",
     "text": [
      "Requirement already satisfied: tensorflow in d:\\python\\lib\\site-packages (2.6.2)\n",
      "Requirement already satisfied: termcolor~=1.1.0 in d:\\python\\lib\\site-packages (from tensorflow) (1.1.0)\n",
      "Requirement already satisfied: keras<2.7,>=2.6.0 in d:\\python\\lib\\site-packages (from tensorflow) (2.6.0)\n",
      "Requirement already satisfied: grpcio<2.0,>=1.37.0 in d:\\python\\lib\\site-packages (from tensorflow) (1.48.2)\n",
      "Requirement already satisfied: gast==0.4.0 in d:\\python\\lib\\site-packages (from tensorflow) (0.4.0)\n",
      "Requirement already satisfied: wrapt~=1.12.1 in d:\\python\\lib\\site-packages (from tensorflow) (1.12.1)\n",
      "Requirement already satisfied: tensorflow-estimator<2.7,>=2.6.0 in d:\\python\\lib\\site-packages (from tensorflow) (2.6.0)\n",
      "Requirement already satisfied: absl-py~=0.10 in d:\\python\\lib\\site-packages (from tensorflow) (0.15.0)\n",
      "Requirement already satisfied: astunparse~=1.6.3 in d:\\python\\lib\\site-packages (from tensorflow) (1.6.3)\n",
      "Requirement already satisfied: keras-preprocessing~=1.1.2 in d:\\python\\lib\\site-packages (from tensorflow) (1.1.2)\n",
      "Requirement already satisfied: six~=1.15.0 in d:\\python\\lib\\site-packages (from tensorflow) (1.15.0)\n",
      "Requirement already satisfied: typing-extensions~=3.7.4 in d:\\python\\lib\\site-packages (from tensorflow) (3.7.4.3)\n",
      "Requirement already satisfied: numpy~=1.19.2 in d:\\python\\lib\\site-packages (from tensorflow) (1.19.5)\n",
      "Requirement already satisfied: protobuf>=3.9.2 in d:\\python\\lib\\site-packages (from tensorflow) (3.19.6)\n",
      "Requirement already satisfied: flatbuffers~=1.12.0 in d:\\python\\lib\\site-packages (from tensorflow) (1.12)\n",
      "Requirement already satisfied: google-pasta~=0.2 in d:\\python\\lib\\site-packages (from tensorflow) (0.2.0)\n",
      "Requirement already satisfied: tensorboard<2.7,>=2.6.0 in d:\\python\\lib\\site-packages (from tensorflow) (2.6.0)\n",
      "Requirement already satisfied: wheel~=0.35 in d:\\python\\lib\\site-packages (from tensorflow) (0.37.1)\n",
      "Requirement already satisfied: opt-einsum~=3.3.0 in d:\\python\\lib\\site-packages (from tensorflow) (3.3.0)\n",
      "Requirement already satisfied: h5py~=3.1.0 in d:\\python\\lib\\site-packages (from tensorflow) (3.1.0)\n",
      "Requirement already satisfied: clang~=5.0 in d:\\python\\lib\\site-packages (from tensorflow) (5.0)\n",
      "Requirement already satisfied: cached-property in d:\\python\\lib\\site-packages (from h5py~=3.1.0->tensorflow) (1.5.2)\n",
      "Requirement already satisfied: markdown>=2.6.8 in d:\\python\\lib\\site-packages (from tensorboard<2.7,>=2.6.0->tensorflow) (3.3.7)\n",
      "Requirement already satisfied: werkzeug>=0.11.15 in d:\\python\\lib\\site-packages (from tensorboard<2.7,>=2.6.0->tensorflow) (2.0.3)\n",
      "Requirement already satisfied: tensorboard-data-server<0.7.0,>=0.6.0 in d:\\python\\lib\\site-packages (from tensorboard<2.7,>=2.6.0->tensorflow) (0.6.1)\n",
      "Requirement already satisfied: google-auth<2,>=1.6.3 in d:\\python\\lib\\site-packages (from tensorboard<2.7,>=2.6.0->tensorflow) (1.35.0)\n",
      "Requirement already satisfied: google-auth-oauthlib<0.5,>=0.4.1 in d:\\python\\lib\\site-packages (from tensorboard<2.7,>=2.6.0->tensorflow) (0.4.6)\n",
      "Requirement already satisfied: setuptools>=41.0.0 in d:\\python\\lib\\site-packages (from tensorboard<2.7,>=2.6.0->tensorflow) (59.6.0)\n",
      "Requirement already satisfied: tensorboard-plugin-wit>=1.6.0 in d:\\python\\lib\\site-packages (from tensorboard<2.7,>=2.6.0->tensorflow) (1.8.1)\n",
      "Requirement already satisfied: requests<3,>=2.21.0 in d:\\python\\lib\\site-packages (from tensorboard<2.7,>=2.6.0->tensorflow) (2.27.1)\n",
      "Requirement already satisfied: pyasn1-modules>=0.2.1 in d:\\python\\lib\\site-packages (from google-auth<2,>=1.6.3->tensorboard<2.7,>=2.6.0->tensorflow) (0.2.8)\n",
      "Requirement already satisfied: cachetools<5.0,>=2.0.0 in d:\\python\\lib\\site-packages (from google-auth<2,>=1.6.3->tensorboard<2.7,>=2.6.0->tensorflow) (4.2.4)\n",
      "Requirement already satisfied: rsa<5,>=3.1.4 in d:\\python\\lib\\site-packages (from google-auth<2,>=1.6.3->tensorboard<2.7,>=2.6.0->tensorflow) (4.9)\n",
      "Requirement already satisfied: requests-oauthlib>=0.7.0 in d:\\python\\lib\\site-packages (from google-auth-oauthlib<0.5,>=0.4.1->tensorboard<2.7,>=2.6.0->tensorflow) (1.3.1)\n",
      "Requirement already satisfied: importlib-metadata>=4.4 in d:\\python\\lib\\site-packages (from markdown>=2.6.8->tensorboard<2.7,>=2.6.0->tensorflow) (4.8.3)\n",
      "Requirement already satisfied: idna<4,>=2.5 in d:\\python\\lib\\site-packages (from requests<3,>=2.21.0->tensorboard<2.7,>=2.6.0->tensorflow) (3.3)\n",
      "Requirement already satisfied: charset-normalizer~=2.0.0 in d:\\python\\lib\\site-packages (from requests<3,>=2.21.0->tensorboard<2.7,>=2.6.0->tensorflow) (2.0.12)\n",
      "Requirement already satisfied: certifi>=2017.4.17 in d:\\python\\lib\\site-packages (from requests<3,>=2.21.0->tensorboard<2.7,>=2.6.0->tensorflow) (2022.6.15)\n",
      "Requirement already satisfied: urllib3<1.27,>=1.21.1 in d:\\python\\lib\\site-packages (from requests<3,>=2.21.0->tensorboard<2.7,>=2.6.0->tensorflow) (1.26.10)\n",
      "Requirement already satisfied: dataclasses in d:\\python\\lib\\site-packages (from werkzeug>=0.11.15->tensorboard<2.7,>=2.6.0->tensorflow) (0.8)\n",
      "Requirement already satisfied: zipp>=0.5 in d:\\python\\lib\\site-packages (from importlib-metadata>=4.4->markdown>=2.6.8->tensorboard<2.7,>=2.6.0->tensorflow) (3.6.0)\n",
      "Requirement already satisfied: pyasn1<0.5.0,>=0.4.6 in d:\\python\\lib\\site-packages (from pyasn1-modules>=0.2.1->google-auth<2,>=1.6.3->tensorboard<2.7,>=2.6.0->tensorflow) (0.4.8)\n",
      "Requirement already satisfied: oauthlib>=3.0.0 in d:\\python\\lib\\site-packages (from requests-oauthlib>=0.7.0->google-auth-oauthlib<0.5,>=0.4.1->tensorboard<2.7,>=2.6.0->tensorflow) (3.2.2)\n",
      "Note: you may need to restart the kernel to use updated packages.\n"
     ]
    }
   ],
   "source": [
    "pip install tensorflow"
   ]
  },
  {
   "cell_type": "code",
   "execution_count": 3,
   "metadata": {
    "colab": {
     "background_save": true
    },
    "id": "WDVDriRI-8DK"
   },
   "outputs": [],
   "source": [
    "from tensorflow.keras.callbacks import EarlyStopping\n",
    "import pandas as pd\n",
    "import numpy as np\n",
    "from sklearn.model_selection import train_test_split\n",
    "from sklearn.preprocessing import StandardScaler\n",
    "from tensorflow.keras.models import Model\n",
    "from tensorflow.keras.layers import Input, Dense, GlobalAveragePooling2D\n",
    "from tensorflow.keras.applications import EfficientNetB0\n",
    "from tensorflow.keras.optimizers import Adam\n",
    "from skimage.transform import resize\n",
    "from sklearn.metrics import accuracy_score\n",
    "import tensorflow as tf\n",
    "import matplotlib.pyplot as plt"
   ]
  },
  {
   "cell_type": "code",
   "execution_count": 4,
   "metadata": {
    "colab": {
     "background_save": true,
     "base_uri": "https://localhost:8080/"
    },
    "executionInfo": {
     "elapsed": 20003,
     "status": "ok",
     "timestamp": 1752490576986,
     "user": {
      "displayName": "DESAI PRANAV AVINASH",
      "userId": "15523395059269698347"
     },
     "user_tz": -330
    },
    "id": "5tddwqOx_VHf"
   },
   "outputs": [],
   "source": [
    "\n",
    "df = pd.read_csv(r'C:\\Users\\Pranav Desai\\Desktop\\Chronic Disease\\accurate_augmented_heart_data.csv')"
   ]
  },
  {
   "cell_type": "code",
   "execution_count": 5,
   "metadata": {
    "colab": {
     "background_save": true,
     "base_uri": "https://localhost:8080/"
    },
    "executionInfo": {
     "elapsed": 8,
     "status": "ok",
     "timestamp": 1752490577002,
     "user": {
      "displayName": "DESAI PRANAV AVINASH",
      "userId": "15523395059269698347"
     },
     "user_tz": -330
    },
    "id": "tvU9a5NrQmZC"
   },
   "outputs": [
    {
     "name": "stdout",
     "output_type": "stream",
     "text": [
      "<class 'pandas.core.frame.DataFrame'>\n",
      "RangeIndex: 11190 entries, 0 to 11189\n",
      "Data columns (total 12 columns):\n",
      " #   Column               Non-Null Count  Dtype  \n",
      "---  ------               --------------  -----  \n",
      " 0   age                  11190 non-null  int64  \n",
      " 1   sex                  11190 non-null  int64  \n",
      " 2   chest pain type      11190 non-null  int64  \n",
      " 3   resting bp s         11190 non-null  int64  \n",
      " 4   cholesterol          11190 non-null  int64  \n",
      " 5   fasting blood sugar  11190 non-null  int64  \n",
      " 6   resting ecg          11190 non-null  int64  \n",
      " 7   max heart rate       11190 non-null  int64  \n",
      " 8   exercise angina      11190 non-null  int64  \n",
      " 9   oldpeak              11190 non-null  float64\n",
      " 10  ST slope             11190 non-null  int64  \n",
      " 11  target               11190 non-null  int64  \n",
      "dtypes: float64(1), int64(11)\n",
      "memory usage: 1.0 MB\n"
     ]
    }
   ],
   "source": [
    "df.info()"
   ]
  },
  {
   "cell_type": "code",
   "execution_count": 6,
   "metadata": {
    "colab": {
     "background_save": true
    },
    "id": "u6m5lfJ__fcO"
   },
   "outputs": [],
   "source": [
    "x = df.drop('target', axis=1)\n",
    "y = df['target']"
   ]
  },
  {
   "cell_type": "code",
   "execution_count": 7,
   "metadata": {
    "colab": {
     "background_save": true
    },
    "id": "UXK9pk7H_rqG"
   },
   "outputs": [],
   "source": [
    "# Normalize the input features\n",
    "scaler = StandardScaler()\n",
    "x_scaled = scaler.fit_transform(x)"
   ]
  },
  {
   "cell_type": "code",
   "execution_count": 8,
   "metadata": {
    "colab": {
     "background_save": true
    },
    "id": "I5Q-fesLQxsJ"
   },
   "outputs": [],
   "source": [
    "# Convert tabular rows to image\n",
    "def tabular_to_image(x_row, img_size=224):\n",
    "    side = int(np.ceil(np.sqrt(x_row.shape[0])))\n",
    "    padded = np.pad(x_row, (0, side*side - x_row.shape[0]), mode='constant')\n",
    "    image = padded.reshape(side, side)\n",
    "    image = np.stack([image]*3, axis=-1)\n",
    "    image_resized = resize(image, (img_size, img_size), mode='reflect', anti_aliasing=True)\n",
    "    return image_resized\n",
    "\n",
    "x_images = np.array([tabular_to_image(x) for x in x_scaled])\n"
   ]
  },
  {
   "cell_type": "code",
   "execution_count": 9,
   "metadata": {
    "colab": {
     "background_save": true
    },
    "id": "0AkgiC1yQxfh"
   },
   "outputs": [],
   "source": [
    "x_train, x_test, y_train, y_test = train_test_split(x_images, y, test_size=0.2, random_state=42)\n"
   ]
  },
  {
   "cell_type": "code",
   "execution_count": 10,
   "metadata": {
    "colab": {
     "background_save": true,
     "base_uri": "https://localhost:8080/"
    },
    "executionInfo": {
     "elapsed": 1413,
     "status": "ok",
     "timestamp": 1752490705644,
     "user": {
      "displayName": "DESAI PRANAV AVINASH",
      "userId": "15523395059269698347"
     },
     "user_tz": -330
    },
    "id": "1Q73IUVC0FpR"
   },
   "outputs": [
    {
     "name": "stdout",
     "output_type": "stream",
     "text": [
      "Downloading data from https://storage.googleapis.com/keras-applications/efficientnetb0_notop.h5\n",
      "16711680/16705208 [==============================] - 3s 0us/step\n",
      "16719872/16705208 [==============================] - 3s 0us/step\n"
     ]
    }
   ],
   "source": [
    "#Build EfficientNet Model\n",
    "base_model = EfficientNetB0(include_top=False, input_shape=(224, 224, 3), weights='imagenet')\n",
    "base_model.trainable = False  # Freeze base layers\n",
    "\n",
    "x = base_model.output\n",
    "x = GlobalAveragePooling2D()(x)\n",
    "x = Dense(64, activation='relu')(x)\n",
    "output = Dense(1, activation='sigmoid')(x)\n",
    "\n",
    "model = Model(inputs=base_model.input, outputs=output)\n",
    "model.compile(optimizer=Adam(), loss='binary_crossentropy', metrics=['accuracy'])\n"
   ]
  },
  {
   "cell_type": "code",
   "execution_count": 11,
   "metadata": {},
   "outputs": [],
   "source": [
    "early_stop = EarlyStopping(\n",
    "    monitor='val_loss',\n",
    "    patience=3,\n",
    "    restore_best_weights=True,\n",
    "    verbose=1\n",
    ")"
   ]
  },
  {
   "cell_type": "code",
   "execution_count": 12,
   "metadata": {},
   "outputs": [
    {
     "name": "stdout",
     "output_type": "stream",
     "text": [
      "Epoch 1/30\n",
      "224/224 [==============================] - 27s 72ms/step - loss: 0.6937 - accuracy: 0.5163 - val_loss: 0.6909 - val_accuracy: 0.5349\n",
      "Epoch 2/30\n",
      "224/224 [==============================] - 13s 59ms/step - loss: 0.6922 - accuracy: 0.5256 - val_loss: 0.6908 - val_accuracy: 0.5349\n",
      "Epoch 3/30\n",
      "224/224 [==============================] - 13s 60ms/step - loss: 0.6920 - accuracy: 0.5251 - val_loss: 0.6908 - val_accuracy: 0.5349\n",
      "Epoch 4/30\n",
      "224/224 [==============================] - 13s 60ms/step - loss: 0.6922 - accuracy: 0.5251 - val_loss: 0.6914 - val_accuracy: 0.5349\n",
      "Epoch 5/30\n",
      "224/224 [==============================] - 13s 60ms/step - loss: 0.6920 - accuracy: 0.5251 - val_loss: 0.6909 - val_accuracy: 0.5349\n",
      "Epoch 6/30\n",
      "224/224 [==============================] - 13s 60ms/step - loss: 0.6918 - accuracy: 0.5251 - val_loss: 0.6909 - val_accuracy: 0.5349\n",
      "Restoring model weights from the end of the best epoch.\n",
      "Epoch 00006: early stopping\n"
     ]
    }
   ],
   "source": [
    "history = model.fit(x_train, y_train, epochs=30, batch_size=32, validation_split=0.2,\n",
    "    callbacks=[early_stop])"
   ]
  },
  {
   "cell_type": "code",
   "execution_count": 13,
   "metadata": {
    "colab": {
     "background_save": true,
     "base_uri": "https://localhost:8080/"
    },
    "id": "HvwyHtaZ0Vog"
   },
   "outputs": [
    {
     "name": "stdout",
     "output_type": "stream",
     "text": [
      "Epoch 1/30\n",
      "224/224 [==============================] - 14s 63ms/step - loss: 0.6920 - accuracy: 0.5251 - val_loss: 0.6919 - val_accuracy: 0.5349\n",
      "Epoch 2/30\n",
      "224/224 [==============================] - 13s 60ms/step - loss: 0.6923 - accuracy: 0.5251 - val_loss: 0.6910 - val_accuracy: 0.5349\n",
      "Epoch 3/30\n",
      "224/224 [==============================] - 13s 60ms/step - loss: 0.6921 - accuracy: 0.5251 - val_loss: 0.6910 - val_accuracy: 0.5349\n",
      "Epoch 4/30\n",
      "224/224 [==============================] - 14s 61ms/step - loss: 0.6920 - accuracy: 0.5251 - val_loss: 0.6912 - val_accuracy: 0.5349s: 0.692\n",
      "Epoch 5/30\n",
      "224/224 [==============================] - 13s 59ms/step - loss: 0.6921 - accuracy: 0.5251 - val_loss: 0.6908 - val_accuracy: 0.5349s: 0.6932 - accura - ETA: 8s - ETA: 6s - loss: 0.6924 - ac - ETA:  - ETA - ETA\n",
      "Epoch 6/30\n",
      "224/224 [==============================] - 13s 60ms/step - loss: 0.6921 - accuracy: 0.5251 - val_loss: 0.6910 - val_accuracy: 0.5349oss: 0.6921 - accuracy: 0. - ETA: 0s - loss: 0.6921 - accuracy: 0.52\n",
      "Epoch 7/30\n",
      "224/224 [==============================] - 13s 60ms/step - loss: 0.6921 - accuracy: 0.5251 - val_loss: 0.6907 - val_accuracy: 0.5349TA: 2s - los - ETA: 0s - loss: 0\n",
      "Epoch 8/30\n",
      "224/224 [==============================] - 13s 60ms/step - loss: 0.6919 - accuracy: 0.5251 - val_loss: 0.6906 - val_accuracy: 0.5349 los - ETA: 6s - l - ETA: 0s - loss: 0.6919 - accuracy: 0.52\n",
      "Epoch 9/30\n",
      "224/224 [==============================] - 13s 60ms/step - loss: 0.6921 - accuracy: 0.5251 - val_loss: 0.6907 - val_accuracy: 0.53499s - loss: 0.6917 - accura - ETA: 9s - loss: - ETA: 8s - loss: 0\n",
      "Epoch 10/30\n",
      "224/224 [==============================] - 13s 60ms/step - loss: 0.6920 - accuracy: 0.5251 - val_loss: 0.6909 - val_accuracy: 0.5349\n",
      "Epoch 11/30\n",
      "224/224 [==============================] - 13s 60ms/step - loss: 0.6920 - accuracy: 0.5251 - val_loss: 0.6907 - val_accuracy: 0.5349\n",
      "Epoch 12/30\n",
      "224/224 [==============================] - 13s 60ms/step - loss: 0.6921 - accuracy: 0.5251 - val_loss: 0.6911 - val_accuracy: 0.5349\n",
      "Epoch 13/30\n",
      "224/224 [==============================] - 13s 60ms/step - loss: 0.6919 - accuracy: 0.5251 - val_loss: 0.6907 - val_accuracy: 0.5349\n",
      "Epoch 14/30\n",
      "224/224 [==============================] - 14s 61ms/step - loss: 0.6919 - accuracy: 0.5251 - val_loss: 0.6909 - val_accuracy: 0.5349\n",
      "Epoch 15/30\n",
      "224/224 [==============================] - 13s 60ms/step - loss: 0.6919 - accuracy: 0.5251 - val_loss: 0.6917 - val_accuracy: 0.5349\n",
      "Epoch 16/30\n",
      "224/224 [==============================] - 14s 61ms/step - loss: 0.6920 - accuracy: 0.5251 - val_loss: 0.6909 - val_accuracy: 0.5349\n",
      "Epoch 17/30\n",
      "224/224 [==============================] - 14s 61ms/step - loss: 0.6920 - accuracy: 0.5251 - val_loss: 0.6908 - val_accuracy: 0.5349\n",
      "Epoch 18/30\n",
      "224/224 [==============================] - 14s 61ms/step - loss: 0.6920 - accuracy: 0.5251 - val_loss: 0.6907 - val_accuracy: 0.5349\n",
      "Epoch 19/30\n",
      "224/224 [==============================] - 13s 60ms/step - loss: 0.6916 - accuracy: 0.5251 - val_loss: 0.6906 - val_accuracy: 0.5349s: 0.6916 - accuracy: 0.52\n",
      "Epoch 20/30\n",
      "224/224 [==============================] - 13s 60ms/step - loss: 0.6918 - accuracy: 0.5251 - val_loss: 0.6905 - val_accuracy: 0.5349\n",
      "Epoch 21/30\n",
      "224/224 [==============================] - 13s 60ms/step - loss: 0.6918 - accuracy: 0.5251 - val_loss: 0.6905 - val_accuracy: 0.5349\n",
      "Epoch 22/30\n",
      "224/224 [==============================] - 13s 60ms/step - loss: 0.6917 - accuracy: 0.5251 - val_loss: 0.6911 - val_accuracy: 0.5349\n",
      "Epoch 23/30\n",
      "224/224 [==============================] - 14s 60ms/step - loss: 0.6921 - accuracy: 0.5251 - val_loss: 0.6908 - val_accuracy: 0.5349\n",
      "Epoch 24/30\n",
      "224/224 [==============================] - 13s 60ms/step - loss: 0.6919 - accuracy: 0.5251 - val_loss: 0.6911 - val_accuracy: 0.53499s - loss: 0.693 - ETA: 8s - loss: 0.6923 -  - ETA: 8s - loss: 0.6923 - accuracy:  - ETA: 7s - loss: 0.6921 - accura - ETA: 7s - loss: 0.6917 - accuracy - ETA: 6s - loss: 0.691 - ETA: 4s - ETA: 1s - loss: 0\n",
      "Epoch 25/30\n",
      "224/224 [==============================] - 14s 60ms/step - loss: 0.6916 - accuracy: 0.5251 - val_loss: 0.6905 - val_accuracy: 0.5349\n",
      "Epoch 26/30\n",
      "224/224 [==============================] - 13s 60ms/step - loss: 0.6916 - accuracy: 0.5251 - val_loss: 0.6905 - val_accuracy: 0.5349\n",
      "Epoch 27/30\n",
      "224/224 [==============================] - 13s 60ms/step - loss: 0.6915 - accuracy: 0.5251 - val_loss: 0.6904 - val_accuracy: 0.5349y: 0.52 - ETA: 3s - loss: 0.6916 - accura - ETA: 2s - loss: 0.6918  - E - ETA: 0s - loss: 0.6916 - accura\n",
      "Epoch 28/30\n",
      "224/224 [==============================] - 13s 60ms/step - loss: 0.6920 - accuracy: 0.5251 - val_loss: 0.6909 - val_accuracy: 0.5349\n",
      "Epoch 29/30\n",
      "224/224 [==============================] - 13s 60ms/step - loss: 0.6920 - accuracy: 0.5251 - val_loss: 0.6909 - val_accuracy: 0.5349 loss: 0.6920 - accuracy: 0. - ETA: 4s - loss: 0.6919 - accuracy:  - ETA: 4s - loss: 0.691 - ETA: 1s - loss: - ETA: 0s - loss: 0.6920 - accuracy: 0.52 - ETA: 0s - loss: 0.6920 - accuracy: 0.\n",
      "Epoch 30/30\n",
      "224/224 [==============================] - 13s 60ms/step - loss: 0.6919 - accuracy: 0.5251 - val_loss: 0.6908 - val_accuracy: 0.5349\n"
     ]
    }
   ],
   "source": [
    "history = model.fit(x_train, y_train, epochs=30, batch_size=32, validation_split=0.2)"
   ]
  },
  {
   "cell_type": "code",
   "execution_count": 14,
   "metadata": {
    "colab": {
     "background_save": true
    },
    "id": "1yjM8usE0YqT"
   },
   "outputs": [
    {
     "name": "stdout",
     "output_type": "stream",
     "text": [
      "Test Accuracy: 0.5335120643431636\n"
     ]
    }
   ],
   "source": [
    "# 🧪 Evaluate\n",
    "y_pred = (model.predict(x_test) > 0.5).astype(\"int32\")\n",
    "print(\"Test Accuracy:\", accuracy_score(y_test, y_pred))\n"
   ]
  },
  {
   "cell_type": "code",
   "execution_count": 15,
   "metadata": {
    "colab": {
     "background_save": true
    },
    "id": "nbxDImsDhmQV"
   },
   "outputs": [],
   "source": [
    "# Extract values from history\n",
    "loss = history.history['loss']\n",
    "val_loss = history.history['val_loss']\n",
    "accuracy = history.history.get('accuracy', history.history.get('acc'))  # Some versions use 'acc'\n",
    "val_accuracy = history.history.get('val_accuracy', history.history.get('val_acc'))\n",
    "\n",
    "epochs = range(1, len(loss) + 1)\n"
   ]
  },
  {
   "cell_type": "code",
   "execution_count": 16,
   "metadata": {
    "colab": {
     "background_save": true
    },
    "id": "-BeH-CYKhoN2"
   },
   "outputs": [
    {
     "data": {
      "text/plain": [
       "<matplotlib.legend.Legend at 0x2de7c5f8668>"
      ]
     },
     "execution_count": 16,
     "metadata": {},
     "output_type": "execute_result"
    },
    {
     "data": {
      "image/png": "[encoded data removed]",
      "text/plain": [
       "<Figure size 864x360 with 1 Axes>"
      ]
     },
     "metadata": {
      "needs_background": "light"
     },
     "output_type": "display_data"
    }
   ],
   "source": [
    "# Plot Loss\n",
    "plt.figure(figsize=(12, 5))\n",
    "plt.subplot(1, 2, 1)\n",
    "plt.plot(epochs, loss, 'bo-', label='Training Loss')\n",
    "plt.plot(epochs, val_loss, 'r*-', label='Validation Loss')\n",
    "plt.xlabel('Epochs')\n",
    "plt.ylabel('Loss')\n",
    "plt.title('Model Loss Over Epochs')\n",
    "plt.legend()"
   ]
  },
  {
   "cell_type": "code",
   "execution_count": 17,
   "metadata": {
    "colab": {
     "background_save": true
    },
    "id": "3hqzNGhLhpuF"
   },
   "outputs": [
    {
     "data": {
      "image/png": "[encoded data removed]",
      "text/plain": [
       "<Figure size 864x288 with 1 Axes>"
      ]
     },
     "metadata": {
      "needs_background": "light"
     },
     "output_type": "display_data"
    }
   ],
   "source": [
    "plt.figure(figsize=(12, 4))\n",
    "plt.subplot(1, 2, 2)\n",
    "plt.plot(epochs, accuracy, 'bo-', label='Training Accuracy')\n",
    "plt.plot(epochs, val_accuracy, 'r*-', label='Validation Accuracy')\n",
    "plt.xlabel('Epochs')\n",
    "plt.ylabel('Accuracy')\n",
    "plt.title('Model Accuracy Over Epochs')\n",
    "plt.legend()\n",
    "\n",
    "plt.tight_layout()\n",
    "plt.show()"
   ]
  },
  {
   "cell_type": "code",
   "execution_count": 18,
   "metadata": {
    "colab": {
     "background_save": true
    },
    "id": "qnAbFDPOwT4H"
   },
   "outputs": [
    {
     "name": "stdout",
     "output_type": "stream",
     "text": [
      "WARNING:tensorflow:From d:\\Python\\lib\\site-packages\\tensorflow\\python\\profiler\\internal\\flops_registry.py:142: tensor_shape_from_node_def_name (from tensorflow.python.framework.graph_util_impl) is deprecated and will be removed in a future version.\n",
      "Instructions for updating:\n",
      "Use `tf.compat.v1.graph_util.tensor_shape_from_node_def_name`\n"
     ]
    },
    {
     "name": "stderr",
     "output_type": "stream",
     "text": [
      "d:\\Python\\lib\\site-packages\\keras\\utils\\generic_utils.py:497: CustomMaskWarning: Custom mask layers require a config and must override get_config. When loading, the custom mask layer must be passed to the custom_objects argument.\n",
      "  category=CustomMaskWarning)\n"
     ]
    },
    {
     "data": {
      "text/plain": [
       "{'total_parameters': 4131620,\n",
       " 'FLOPs': 780528156,\n",
       " 'GFLOPs': 0.780528156,\n",
       " 'model_size_bytes': 17849544,\n",
       " 'model_size_MB': 17.02265167236328,\n",
       " 'inference_time_seconds': 3.9868898391723633,\n",
       " 'accuracy': 0.5335120558738708}"
      ]
     },
     "execution_count": 18,
     "metadata": {},
     "output_type": "execute_result"
    }
   ],
   "source": [
    "import tensorflow as tf\n",
    "import os\n",
    "import time\n",
    "from tensorflow.python.framework.convert_to_constants import convert_variables_to_constants_v2\n",
    "from tensorflow.python.profiler import model_analyzer\n",
    "from tensorflow.python.profiler.option_builder import ProfileOptionBuilder\n",
    "\n",
    "def evaluate_model_metrics(model, x_test, y_test, model_name=\"model_metrics\"):\n",
    "    results = {}\n",
    "\n",
    "    # Total Parameters\n",
    "    results['total_parameters'] = model.count_params()\n",
    "\n",
    "    # FLOPs Calculation\n",
    "    func = tf.function(lambda x: model(x))\n",
    "    concrete_func = func.get_concrete_function(\n",
    "        tf.TensorSpec([1] + list(model.input_shape[1:]), model.inputs[0].dtype)\n",
    "    )\n",
    "    frozen_func = convert_variables_to_constants_v2(concrete_func)\n",
    "    flops = model_analyzer.profile(\n",
    "        graph=frozen_func.graph,\n",
    "        options=ProfileOptionBuilder.float_operation()\n",
    "    ).total_float_ops\n",
    "    results['FLOPs'] = flops\n",
    "    results['GFLOPs'] = flops / 1e9\n",
    "\n",
    "    # Model Size\n",
    "    model_path = f\"{model_name}.h5\"\n",
    "    model.save(model_path)\n",
    "    size_bytes = os.path.getsize(model_path)\n",
    "    results['model_size_bytes'] = size_bytes\n",
    "    results['model_size_MB'] = size_bytes / (1024 * 1024)\n",
    "\n",
    "    # Inference Time\n",
    "    start = time.time()\n",
    "    model.predict(x_test)\n",
    "    end = time.time()\n",
    "    results['inference_time_seconds'] = end - start\n",
    "\n",
    "    # Accuracy\n",
    "    loss, acc = model.evaluate(x_test, y_test, verbose=0)\n",
    "    results['accuracy'] = acc\n",
    "\n",
    "    return results\n",
    "evaluate_model_metrics(model, x_test, y_test, model_name=\"model_metrics\")"
   ]
  }
 ],
 "metadata": {
  "accelerator": "TPU",
  "colab": {
   "gpuType": "V28",
   "name": "",
   "version": ""
  },
  "kernelspec": {
   "display_name": "Python 3",
   "name": "python3"
  },
  "language_info": {
   "codemirror_mode": {
    "name": "ipython",
    "version": 3
   },
   "file_extension": ".py",
   "mimetype": "text/x-python",
   "name": "python",
   "nbconvert_exporter": "python",
   "pygments_lexer": "ipython3",
   "version": "3.6.2"
  }
 },
 "nbformat": 4,
 "nbformat_minor": 0
}
